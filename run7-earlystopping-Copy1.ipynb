{
 "cells": [
  {
   "cell_type": "code",
   "execution_count": 1,
   "metadata": {},
   "outputs": [],
   "source": [
    "%load_ext autoreload\n",
    "%autoreload 2\n",
    "import pickle\n",
    "import os\n",
    "os.environ['TF_CPP_MIN_LOG_LEVEL'] = '3' \n",
    "import pandas as pd\n",
    "\n",
    "import data_pre_processing\n",
    "import dataset_pre_processing\n",
    "import pre_training\n",
    "import raw_data_processing\n",
    "from raw_data_processing import process_PAMAP2_all_data, process_hhar_all_files, process_motion_sense_all_files, open_pickle\n",
    "import numpy as np\n",
    "import scipy.stats\n",
    "import data_pre_processing\n",
    "import self_har_models\n",
    "import tensorflow as tf\n",
    "import seaborn as sns\n",
    "import matplotlib.pyplot as plt\n",
    "\n",
    "tf.get_logger().setLevel('INFO')"
   ]
  },
  {
   "cell_type": "markdown",
   "metadata": {},
   "source": [
    "# Data pre-processing"
   ]
  },
  {
   "cell_type": "code",
   "execution_count": 2,
   "metadata": {},
   "outputs": [
    {
     "name": "stdout",
     "output_type": "stream",
     "text": [
      "{'IMU ankle': 0, 'IMU chest': 1, 'IMU hand': 2, 'Phone': 3, 'Watch': 4, 'iphone': 5}\n",
      "getting mean\n",
      "[-0.18597652  1.40292431  4.05411898]\n",
      "[6.31367612 5.0870368  5.47022979]\n",
      "normalising train set\n",
      "normalisnig test\n"
     ]
    }
   ],
   "source": [
    "# get data from pickle \n",
    "\n",
    "with open('pickled_datasets/pamap.pickle', 'rb') as file:\n",
    "    pamap_df = pickle.load(file)\n",
    "with open('pickled_datasets/hhar.pickle', 'rb') as file:\n",
    "    hhar_df = pickle.load(file)\n",
    "with open('pickled_datasets/motionsense.pickle', 'rb') as file:\n",
    "    motion_sense_df = pickle.load(file)\n",
    "    \n",
    "def concat_datasets(datasets, sensor_type):\n",
    "    concated_datasets = {}\n",
    "    ##TODO need to check key to see whether mag exists\n",
    "    for df in datasets:\n",
    "        concated_datasets.update(df[sensor_type])\n",
    "    return concated_datasets\n",
    "\n",
    "cdf = concat_datasets([pamap_df, hhar_df, motion_sense_df], \"acc\")\n",
    "def get_labels(data):\n",
    "    all_labels = []\n",
    "    for user in data:\n",
    "        all_labels = np.concatenate((np.unique(data[user][0][1]), all_labels))\n",
    "    labels = np.unique(all_labels)\n",
    "    return labels\n",
    "\n",
    "labels = get_labels(cdf)\n",
    "label_map = {label: index for index, label in enumerate(labels)}\n",
    "print(label_map)\n",
    "user_datasets_processed = data_pre_processing.pre_process_dataset_composite(\n",
    "    cdf, label_map, 6, \n",
    "    ['101', '102', '103', '104', '105', '106', '107', 'a', 'b', 'c', 'd', 'e', 'f', 'g', '1', '2', '3', '4', '5', '6', '7', '8', '9', '10', '11', '12', '13', '14', '15', '16', '17', '18', '19', '20'], \n",
    "    [\"108\", \"109\", \"h\", \"i\", \"21\", \"22\", \"23\", \"24\"], 400, 200\n",
    ")"
   ]
  },
  {
   "cell_type": "code",
   "execution_count": 3,
   "metadata": {},
   "outputs": [],
   "source": [
    "# implement early stopping\n",
    "callback = tf.keras.callbacks.EarlyStopping(patience=3, restore_best_weights=True)"
   ]
  },
  {
   "cell_type": "markdown",
   "metadata": {},
   "source": [
    "# Create a CNN Model"
   ]
  },
  {
   "cell_type": "code",
   "execution_count": null,
   "metadata": {},
   "outputs": [],
   "source": [
    "test_model = self_har_models.create_1d_conv_core_model((400,3), \"HAR\")\n",
    "cnn_model = self_har_models.attach_full_har_classification_head(test_model, 6, optimizer=tf.keras.optimizers.legacy.Adam(learning_rate=0.001))\n",
    "cnn_history = cnn_model.fit(user_datasets_processed[0][0], user_datasets_processed[0][1]\n",
    "                    , epochs=100, validation_data=(user_datasets_processed[1][0], user_datasets_processed[1][1]), callbacks=[callback])"
   ]
  },
  {
   "cell_type": "code",
   "execution_count": null,
   "metadata": {},
   "outputs": [],
   "source": [
    "import matplotlib.pyplot as plt\n",
    "plt.plot(cnn_history.history['categorical_accuracy'], label='accuracy')\n",
    "plt.plot(cnn_history.history['val_categorical_accuracy'], label = 'val_accuracy')\n",
    "plt.xlabel('Epoch')\n",
    "plt.ylabel('Accuracy')\n",
    "plt.ylim([.9, 1])\n",
    "plt.legend(loc='lower right')\n",
    "plt.show()\n",
    "\n",
    "cnn_test_result = cnn_model.evaluate(user_datasets_processed[2][0],  user_datasets_processed[2][1], return_dict=True)\n",
    "\n",
    "predicted_labels = np.argmax(cnn_model.predict(user_datasets_processed[2][0]), axis=1)\n",
    "true_labels = np.argmax(user_datasets_processed[2][1], axis=1)\n",
    "confusion_mat = tf.math.confusion_matrix(true_labels, predicted_labels)\n",
    "cm = confusion_mat.numpy()\n",
    "cmn = cm.astype('float') / cm.sum(axis=1)[:, np.newaxis]\n",
    "sns.heatmap(cmn, annot=True, fmt='.2f', xticklabels=labels, yticklabels=labels)\n",
    "plt.ylabel('Actual')\n",
    "plt.xlabel('Predicted')\n",
    "plt.show(block=False)"
   ]
  },
  {
   "cell_type": "markdown",
   "metadata": {},
   "source": [
    "# Create LSTM-Model"
   ]
  },
  {
   "cell_type": "code",
   "execution_count": null,
   "metadata": {},
   "outputs": [],
   "source": [
    "inputs = tf.keras.Input(shape=(400,3), name='input')\n",
    "x = inputs\n",
    "x = tf.keras.layers.Bidirectional(tf.keras.layers.LSTM(96))(x)\n",
    "x = tf.keras.layers.Dense(96, activation='relu')(x)\n",
    "x = tf.keras.layers.Dense(100, activation='sigmoid')(x)\n",
    "LSTM_model = tf.keras.Model(inputs, x, name=\"LSTM-CNN\")\n",
    "print(LSTM_model.summary())\n",
    "full_LSTM_model = self_har_models.attach_full_har_classification_head(LSTM_model, 6, optimizer=tf.keras.optimizers.legacy.Adam(learning_rate=0.001))\n",
    "LSTM_history = full_LSTM_model.fit(user_datasets_processed[0][0], user_datasets_processed[0][1]\n",
    "                    , epochs=100, validation_data=(user_datasets_processed[1][0], user_datasets_processed[1][1]), callbacks=[callback])"
   ]
  },
  {
   "cell_type": "code",
   "execution_count": null,
   "metadata": {},
   "outputs": [],
   "source": [
    "import matplotlib.pyplot as plt\n",
    "plt.plot(LSTM_history.history['categorical_accuracy'], label='accuracy')\n",
    "plt.plot(LSTM_history.history['val_categorical_accuracy'], label = 'val_accuracy')\n",
    "plt.xlabel('Epoch')\n",
    "plt.ylabel('Accuracy')\n",
    "plt.ylim([.9, 1])\n",
    "plt.legend(loc='lower right')\n",
    "plt.show()\n",
    "\n",
    "lstm_test_result = full_LSTM_model.evaluate(user_datasets_processed[2][0],  user_datasets_processed[2][1], return_dict=True)\n",
    "predicted_labels = np.argmax(full_LSTM_model.predict(user_datasets_processed[2][0]), axis=1)\n",
    "true_labels = np.argmax(user_datasets_processed[2][1], axis=1)\n",
    "confusion_mat = tf.math.confusion_matrix(true_labels, predicted_labels)\n",
    "cm = confusion_mat.numpy()\n",
    "cmn = cm.astype('float') / cm.sum(axis=1)[:, np.newaxis]\n",
    "sns.heatmap(cmn, annot=True, fmt='.2f', xticklabels=labels, yticklabels=labels)\n",
    "plt.ylabel('Actual')\n",
    "plt.xlabel('Predicted')\n",
    "plt.show(block=False)"
   ]
  },
  {
   "cell_type": "code",
   "execution_count": 4,
   "metadata": {},
   "outputs": [
    {
     "name": "stdout",
     "output_type": "stream",
     "text": [
      "Model: \"CNN-LSTM\"\n",
      "_________________________________________________________________\n",
      " Layer (type)                Output Shape              Param #   \n",
      "=================================================================\n",
      " input (InputLayer)          [(None, 400, 3)]          0         \n",
      "                                                                 \n",
      " dense (Dense)               (None, 400, 300)          1200      \n",
      "                                                                 \n",
      " conv1d (Conv1D)             (None, 398, 64)           57664     \n",
      "                                                                 \n",
      " conv1d_1 (Conv1D)           (None, 396, 128)          24704     \n",
      "                                                                 \n",
      " max_pooling1d (MaxPooling1D  (None, 197, 128)         0         \n",
      " )                                                               \n",
      "                                                                 \n",
      " conv1d_2 (Conv1D)           (None, 97, 128)           82048     \n",
      "                                                                 \n",
      " conv1d_3 (Conv1D)           (None, 47, 256)           164096    \n",
      "                                                                 \n",
      " max_pooling1d_1 (MaxPooling  (None, 22, 256)          0         \n",
      " 1D)                                                             \n",
      "                                                                 \n",
      " dropout (Dropout)           (None, 22, 256)           0         \n",
      "                                                                 \n",
      " bidirectional (Bidirectiona  (None, 192)              271104    \n",
      " l)                                                              \n",
      "                                                                 \n",
      " dropout_1 (Dropout)         (None, 192)               0         \n",
      "                                                                 \n",
      " dense_1 (Dense)             (None, 100)               19300     \n",
      "                                                                 \n",
      "=================================================================\n",
      "Total params: 620,116\n",
      "Trainable params: 620,116\n",
      "Non-trainable params: 0\n",
      "_________________________________________________________________\n",
      "None\n"
     ]
    }
   ],
   "source": [
    "inputs = tf.keras.Input(shape=(400,3), name='input')\n",
    "x = inputs\n",
    "x = tf.keras.layers.Dense(300, activation='relu')(x)\n",
    "x = tf.keras.layers.Conv1D(\n",
    "        64, 3,\n",
    "        activation='relu',\n",
    "        strides = 1,\n",
    "        kernel_regularizer=tf.keras.regularizers.l2(l=1e-4)\n",
    "    )(x)\n",
    "x = tf.keras.layers.Conv1D(\n",
    "        128, 3,\n",
    "        activation='relu',\n",
    "        strides = 1,\n",
    "        kernel_regularizer=tf.keras.regularizers.l2(l=1e-4),\n",
    "    )(x)\n",
    "x = tf.keras.layers.MaxPool1D(pool_size=4, padding='valid', data_format='channels_last', strides=2)(x)\n",
    "\n",
    "x = tf.keras.layers.Conv1D(\n",
    "    128, 5,\n",
    "    activation='relu',\n",
    "    strides = 2,\n",
    "    kernel_regularizer=tf.keras.regularizers.l2(l=1e-4),\n",
    "    )(x)\n",
    "x = tf.keras.layers.Conv1D(\n",
    "    256, 5,\n",
    "    activation='relu',\n",
    "    strides = 2,\n",
    "    kernel_regularizer=tf.keras.regularizers.l2(l=1e-4),\n",
    "    )(x)\n",
    "x = tf.keras.layers.MaxPool1D(pool_size=4, padding='valid', data_format='channels_last', strides=2)(x)\n",
    "\n",
    "x = tf.keras.layers.Dropout(0.5)(x)\n",
    "x = tf.keras.layers.Bidirectional(tf.keras.layers.LSTM(96))(x)\n",
    "x = tf.keras.layers.Dropout(0.4)(x)\n",
    "# x = tf.keras.layers.Dense(96, activation='relu')(x)\n",
    "x = tf.keras.layers.Dense(100, activation='softmax')(x)\n",
    "\n",
    "CNNLSTN_model = tf.keras.Model(inputs, x, name=\"CNN-LSTM\")\n",
    "print(CNNLSTN_model.summary())"
   ]
  },
  {
   "cell_type": "code",
   "execution_count": 5,
   "metadata": {},
   "outputs": [
    {
     "name": "stdout",
     "output_type": "stream",
     "text": [
      "Epoch 1/100\n",
      "2499/2499 [==============================] - 28s 10ms/step - loss: 0.4925 - categorical_accuracy: 0.8237 - auc: 0.9753 - precision: 0.8915 - recall: 0.7669 - val_loss: 0.2297 - val_categorical_accuracy: 0.9407 - val_auc: 0.9932 - val_precision: 0.9458 - val_recall: 0.9364\n",
      "Epoch 2/100\n",
      "2499/2499 [==============================] - 23s 9ms/step - loss: 0.2083 - categorical_accuracy: 0.9450 - auc: 0.9939 - precision: 0.9481 - recall: 0.9421 - val_loss: 0.1696 - val_categorical_accuracy: 0.9578 - val_auc: 0.9949 - val_precision: 0.9587 - val_recall: 0.9570\n",
      "Epoch 3/100\n",
      "2499/2499 [==============================] - 23s 9ms/step - loss: 0.1815 - categorical_accuracy: 0.9504 - auc: 0.9954 - precision: 0.9538 - recall: 0.9476 - val_loss: 0.1642 - val_categorical_accuracy: 0.9576 - val_auc: 0.9959 - val_precision: 0.9601 - val_recall: 0.9542\n",
      "Epoch 4/100\n",
      "2499/2499 [==============================] - 23s 9ms/step - loss: 0.1644 - categorical_accuracy: 0.9551 - auc: 0.9962 - precision: 0.9573 - recall: 0.9528 - val_loss: 0.1339 - val_categorical_accuracy: 0.9665 - val_auc: 0.9973 - val_precision: 0.9671 - val_recall: 0.9658\n",
      "Epoch 5/100\n",
      "2499/2499 [==============================] - 23s 9ms/step - loss: 0.1509 - categorical_accuracy: 0.9590 - auc: 0.9968 - precision: 0.9620 - recall: 0.9564 - val_loss: 0.1289 - val_categorical_accuracy: 0.9646 - val_auc: 0.9980 - val_precision: 0.9668 - val_recall: 0.9624\n",
      "Epoch 6/100\n",
      "2499/2499 [==============================] - 23s 9ms/step - loss: 0.1331 - categorical_accuracy: 0.9628 - auc: 0.9974 - precision: 0.9646 - recall: 0.9609 - val_loss: 0.1359 - val_categorical_accuracy: 0.9611 - val_auc: 0.9971 - val_precision: 0.9621 - val_recall: 0.9603\n",
      "Epoch 7/100\n",
      "2499/2499 [==============================] - 23s 9ms/step - loss: 0.1466 - categorical_accuracy: 0.9612 - auc: 0.9966 - precision: 0.9632 - recall: 0.9594 - val_loss: 0.1184 - val_categorical_accuracy: 0.9678 - val_auc: 0.9980 - val_precision: 0.9687 - val_recall: 0.9669\n",
      "Epoch 8/100\n",
      "2499/2499 [==============================] - 23s 9ms/step - loss: 0.1349 - categorical_accuracy: 0.9632 - auc: 0.9973 - precision: 0.9652 - recall: 0.9613 - val_loss: 0.1373 - val_categorical_accuracy: 0.9597 - val_auc: 0.9971 - val_precision: 0.9609 - val_recall: 0.9586\n",
      "Epoch 9/100\n",
      "2499/2499 [==============================] - 23s 9ms/step - loss: 0.1289 - categorical_accuracy: 0.9646 - auc: 0.9975 - precision: 0.9660 - recall: 0.9632 - val_loss: 0.1116 - val_categorical_accuracy: 0.9685 - val_auc: 0.9983 - val_precision: 0.9695 - val_recall: 0.9678\n",
      "Epoch 10/100\n",
      "2499/2499 [==============================] - 23s 9ms/step - loss: 0.1149 - categorical_accuracy: 0.9689 - auc: 0.9980 - precision: 0.9701 - recall: 0.9675 - val_loss: 0.1271 - val_categorical_accuracy: 0.9671 - val_auc: 0.9971 - val_precision: 0.9676 - val_recall: 0.9664\n",
      "Epoch 11/100\n",
      "2499/2499 [==============================] - 23s 9ms/step - loss: 0.1158 - categorical_accuracy: 0.9689 - auc: 0.9978 - precision: 0.9706 - recall: 0.9675 - val_loss: 0.0971 - val_categorical_accuracy: 0.9765 - val_auc: 0.9985 - val_precision: 0.9775 - val_recall: 0.9756\n",
      "Epoch 12/100\n",
      "2499/2499 [==============================] - 23s 9ms/step - loss: 0.1066 - categorical_accuracy: 0.9723 - auc: 0.9982 - precision: 0.9736 - recall: 0.9712 - val_loss: 0.1028 - val_categorical_accuracy: 0.9727 - val_auc: 0.9983 - val_precision: 0.9739 - val_recall: 0.9714\n",
      "Epoch 13/100\n",
      "2499/2499 [==============================] - 23s 9ms/step - loss: 0.1044 - categorical_accuracy: 0.9739 - auc: 0.9980 - precision: 0.9755 - recall: 0.9725 - val_loss: 0.0900 - val_categorical_accuracy: 0.9789 - val_auc: 0.9988 - val_precision: 0.9798 - val_recall: 0.9784\n",
      "Epoch 14/100\n",
      "2499/2499 [==============================] - 23s 9ms/step - loss: 0.1029 - categorical_accuracy: 0.9740 - auc: 0.9982 - precision: 0.9752 - recall: 0.9729 - val_loss: 0.1053 - val_categorical_accuracy: 0.9749 - val_auc: 0.9983 - val_precision: 0.9758 - val_recall: 0.9740\n",
      "Epoch 15/100\n",
      "2499/2499 [==============================] - 23s 9ms/step - loss: 0.0995 - categorical_accuracy: 0.9750 - auc: 0.9984 - precision: 0.9762 - recall: 0.9739 - val_loss: 0.0951 - val_categorical_accuracy: 0.9755 - val_auc: 0.9984 - val_precision: 0.9762 - val_recall: 0.9751\n",
      "Epoch 16/100\n",
      "2499/2499 [==============================] - 23s 9ms/step - loss: 0.0948 - categorical_accuracy: 0.9761 - auc: 0.9984 - precision: 0.9773 - recall: 0.9753 - val_loss: 0.1089 - val_categorical_accuracy: 0.9715 - val_auc: 0.9981 - val_precision: 0.9724 - val_recall: 0.9705\n"
     ]
    }
   ],
   "source": [
    "full_CNNLSTM_model = self_har_models.attach_full_har_classification_head(CNNLSTN_model, 6, optimizer=tf.keras.optimizers.legacy.Adam(learning_rate=0.001))\n",
    "CNNLSTM_history = full_CNNLSTM_model.fit(user_datasets_processed[0][0], user_datasets_processed[0][1]\n",
    "                    , epochs=100, validation_data=(user_datasets_processed[1][0], user_datasets_processed[1][1]), callbacks=[callback])"
   ]
  },
  {
   "cell_type": "code",
   "execution_count": 6,
   "metadata": {},
   "outputs": [
    {
     "data": {
      "image/png": "[encoded data removed]",
      "text/plain": [
       "<Figure size 640x480 with 1 Axes>"
      ]
     },
     "metadata": {},
     "output_type": "display_data"
    },
    {
     "name": "stdout",
     "output_type": "stream",
     "text": [
      "660/660 [==============================] - 3s 4ms/step - loss: 0.6365 - categorical_accuracy: 0.8919 - auc: 0.9527 - precision: 0.8922 - recall: 0.8888\n",
      "660/660 [==============================] - 2s 3ms/step\n"
     ]
    },
    {
     "data": {
      "image/png": "[encoded data removed]",
      "text/plain": [
       "<Figure size 640x480 with 2 Axes>"
      ]
     },
     "metadata": {},
     "output_type": "display_data"
    }
   ],
   "source": [
    "import matplotlib.pyplot as plt\n",
    "plt.plot(CNNLSTM_history.history['categorical_accuracy'], label='accuracy')\n",
    "plt.plot(CNNLSTM_history.history['val_categorical_accuracy'], label = 'val_accuracy')\n",
    "plt.xlabel('Epoch')\n",
    "plt.ylabel('Accuracy')\n",
    "plt.ylim([.9, 1])\n",
    "plt.legend(loc='lower right')\n",
    "plt.show()\n",
    "\n",
    "lstm_test_result = full_CNNLSTM_model.evaluate(user_datasets_processed[2][0],  user_datasets_processed[2][1], return_dict=True)\n",
    "predicted_labels = np.argmax(full_CNNLSTM_model.predict(user_datasets_processed[2][0]), axis=1)\n",
    "true_labels = np.argmax(user_datasets_processed[2][1], axis=1)\n",
    "confusion_mat = tf.math.confusion_matrix(true_labels, predicted_labels)\n",
    "cm = confusion_mat.numpy()\n",
    "cmn = cm.astype('float') / cm.sum(axis=1)[:, np.newaxis]\n",
    "sns.heatmap(cmn, annot=True, fmt='.2f', xticklabels=labels, yticklabels=labels)\n",
    "plt.ylabel('Actual')\n",
    "plt.xlabel('Predicted')\n",
    "plt.show(block=False)"
   ]
  },
  {
   "cell_type": "code",
   "execution_count": 7,
   "metadata": {},
   "outputs": [
    {
     "name": "stderr",
     "output_type": "stream",
     "text": [
      "WARNING:absl:Found untraced functions such as _jit_compiled_convolution_op, _jit_compiled_convolution_op, _jit_compiled_convolution_op, _jit_compiled_convolution_op, lstm_cell_1_layer_call_fn while saving (showing 5 of 8). These functions will not be directly callable after loading.\n"
     ]
    },
    {
     "name": "stdout",
     "output_type": "stream",
     "text": [
      "INFO:tensorflow:Assets written to: CNN-LSTM/assets\n"
     ]
    },
    {
     "name": "stderr",
     "output_type": "stream",
     "text": [
      "INFO:tensorflow:Assets written to: CNN-LSTM/assets\n"
     ]
    }
   ],
   "source": [
    "full_CNNLSTM_model.save(\"CNN-LSTM\")"
   ]
  },
  {
   "cell_type": "code",
   "execution_count": 10,
   "metadata": {},
   "outputs": [],
   "source": [
    "model = tf.keras.models.load_model('CNN-LSTM')"
   ]
  },
  {
   "cell_type": "code",
   "execution_count": 11,
   "metadata": {},
   "outputs": [
    {
     "name": "stdout",
     "output_type": "stream",
     "text": [
      "660/660 [==============================] - 4s 4ms/step - loss: 0.6365 - categorical_accuracy: 0.8919 - auc: 0.9527 - precision: 0.8922 - recall: 0.8888\n"
     ]
    }
   ],
   "source": [
    "lstm_test_result = model.evaluate(user_datasets_processed[2][0],  user_datasets_processed[2][1], return_dict=True)\n"
   ]
  },
  {
   "cell_type": "markdown",
   "metadata": {},
   "source": [
    "# Try another CNN-LSTM Model"
   ]
  },
  {
   "cell_type": "code",
   "execution_count": null,
   "metadata": {},
   "outputs": [],
   "source": [
    "inputs = tf.keras.Input(shape=(400,3), name='input')\n",
    "x = inputs\n",
    "x = tf.keras.layers.Dense(300, activation='relu')(x)\n",
    "x = tf.keras.layers.Conv1D(\n",
    "        64, 3,\n",
    "        activation='relu',\n",
    "        strides = 1,\n",
    "        kernel_regularizer=tf.keras.regularizers.l2(l=1e-4)\n",
    "    )(x)\n",
    "x = tf.keras.layers.Conv1D(\n",
    "        128, 3,\n",
    "        activation='relu',\n",
    "        strides = 1,\n",
    "        kernel_regularizer=tf.keras.regularizers.l2(l=1e-4),\n",
    "    )(x)\n",
    "x = tf.keras.layers.MaxPool1D(pool_size=4, padding='valid', data_format='channels_last', strides=2)(x)\n",
    "\n",
    "x = tf.keras.layers.Conv1D(\n",
    "    128, 5,\n",
    "    activation='relu',\n",
    "    strides = 2,\n",
    "    kernel_regularizer=tf.keras.regularizers.l2(l=1e-4),\n",
    "    )(x)\n",
    "x = tf.keras.layers.Conv1D(\n",
    "    256, 5,\n",
    "    activation='relu',\n",
    "    strides = 2,\n",
    "    kernel_regularizer=tf.keras.regularizers.l2(l=1e-4),\n",
    "    )(x)\n",
    "x = tf.keras.layers.MaxPool1D(pool_size=4, padding='valid', data_format='channels_last', strides=2)(x)\n",
    "\n",
    "x = tf.keras.layers.Dropout(0.5)(x)\n",
    "x = tf.keras.layers.Bidirectional(tf.keras.layers.LSTM(300))(x)\n",
    "x = tf.keras.layers.Dropout(0.4)(x)\n",
    "# x = tf.keras.layers.Dense(96, activation='relu')(x)\n",
    "x = tf.keras.layers.Dense(100, activation='softmax')(x)\n",
    "\n",
    "CNNLSTN2_model = tf.keras.Model(inputs, x, name=\"CNN-LSTM\")\n",
    "print(CNNLSTN2_model.summary())"
   ]
  },
  {
   "cell_type": "code",
   "execution_count": null,
   "metadata": {},
   "outputs": [],
   "source": [
    "full_CNNLSTM2_model = self_har_models.attach_full_har_classification_head(CNNLSTN2_model, 6, optimizer=tf.keras.optimizers.legacy.Adam(learning_rate=0.001))\n",
    "CNNLSTM2_history = full_CNNLSTM2_model.fit(user_datasets_processed[0][0], user_datasets_processed[0][1]\n",
    "                    , epochs=100, validation_data=(user_datasets_processed[1][0], user_datasets_processed[1][1]), callbacks=[callback])"
   ]
  },
  {
   "cell_type": "code",
   "execution_count": null,
   "metadata": {},
   "outputs": [],
   "source": [
    "\n",
    "plt.plot(CNNLSTM2_history.history['categorical_accuracy'], label='accuracy')\n",
    "plt.plot(CNNLSTM2_history.history['val_categorical_accuracy'], label = 'val_accuracy')\n",
    "plt.xlabel('Epoch')\n",
    "plt.ylabel('Accuracy')\n",
    "plt.ylim([.9, 1])\n",
    "plt.legend(loc='lower right')\n",
    "plt.show()\n",
    "\n",
    "lstm_test_result = full_CNNLSTM2_model.evaluate(user_datasets_processed[2][0],  user_datasets_processed[2][1], return_dict=True)\n",
    "predicted_labels = np.argmax(full_CNNLSTM2_model.predict(user_datasets_processed[2][0]), axis=1)\n",
    "true_labels = np.argmax(user_datasets_processed[2][1], axis=1)\n",
    "confusion_mat = tf.math.confusion_matrix(true_labels, predicted_labels)\n",
    "cm = confusion_mat.numpy()\n",
    "cmn = cm.astype('float') / cm.sum(axis=1)[:, np.newaxis]\n",
    "sns.heatmap(cmn, annot=True, fmt='.2f', xticklabels=labels, yticklabels=labels)\n",
    "plt.ylabel('Actual')\n",
    "plt.xlabel('Predicted')\n",
    "plt.show(block=False)"
   ]
  },
  {
   "cell_type": "markdown",
   "metadata": {},
   "source": [
    "# LSTM-CNN Model"
   ]
  },
  {
   "cell_type": "code",
   "execution_count": null,
   "metadata": {},
   "outputs": [],
   "source": [
    "inputs = tf.keras.Input(shape=(400,3), name='input')\n",
    "x = inputs\n",
    "# x = tf.keras.layers.Bidirectional(tf.keras.layers.LSTM(300, return_sequences=True, return_state=True))(x)\n",
    "x = tf.keras.layers.LSTM(300, return_sequences=True)(x)\n",
    "x = tf.keras.layers.LSTM(300, return_sequences=True)(x)\n",
    "x = tf.keras.layers.Conv1D(\n",
    "        32, 24,\n",
    "        activation='relu',\n",
    "        kernel_regularizer=tf.keras.regularizers.l2(l=1e-4)\n",
    "    )(x)\n",
    "x = tf.keras.layers.Dropout(0.1)(x)\n",
    "\n",
    "x = tf.keras.layers.Conv1D(\n",
    "        64, 16,\n",
    "        activation='relu',\n",
    "        kernel_regularizer=tf.keras.regularizers.l2(l=1e-4),\n",
    "    )(x)\n",
    "x = tf.keras.layers.Dropout(0.1)(x)\n",
    "\n",
    "x = tf.keras.layers.Conv1D(\n",
    "    96, 8,\n",
    "    activation='relu',\n",
    "    kernel_regularizer=tf.keras.regularizers.l2(l=1e-4),\n",
    "    )(x)\n",
    "x = tf.keras.layers.Dropout(0.1)(x)\n",
    "x = tf.keras.layers.GlobalMaxPool1D(data_format='channels_last', name='global_max_pooling1d')(x) \n",
    "\n",
    "LSTMCNN_model = tf.keras.Model(inputs, x, name=\"LSTM-CNN\")\n",
    "print(LSTMCNN_model.summary())"
   ]
  },
  {
   "cell_type": "code",
   "execution_count": null,
   "metadata": {},
   "outputs": [],
   "source": [
    "full_LSTMCNN_model = self_har_models.attach_full_har_classification_head(LSTMCNN_model, 6, optimizer=tf.keras.optimizers.legacy.Adam(learning_rate=0.001))\n",
    "LSTMCNN_history = full_LSTMCNN_model.fit(user_datasets_processed[0][0], user_datasets_processed[0][1]\n",
    "                    , epochs=100, validation_data=(user_datasets_processed[1][0], user_datasets_processed[1][1]), callbacks=[callback])"
   ]
  },
  {
   "cell_type": "code",
   "execution_count": null,
   "metadata": {},
   "outputs": [],
   "source": [
    "plt.plot(LSTMCNN_history.history['categorical_accuracy'], label='accuracy')\n",
    "plt.plot(LSTMCNN_history.history['val_categorical_accuracy'], label = 'val_accuracy')\n",
    "plt.xlabel('Epoch')\n",
    "plt.ylabel('Accuracy')\n",
    "plt.ylim([.9, 1])\n",
    "plt.legend(loc='lower right')\n",
    "plt.show()\n",
    "\n",
    "lstm_test_result = full_LSTMCNN_model.evaluate(user_datasets_processed[2][0],  user_datasets_processed[2][1], return_dict=True)\n",
    "predicted_labels = np.argmax(full_LSTMCNN_model.predict(user_datasets_processed[2][0]), axis=1)\n",
    "true_labels = np.argmax(user_datasets_processed[2][1], axis=1)\n",
    "confusion_mat = tf.math.confusion_matrix(true_labels, predicted_labels)\n",
    "cm = confusion_mat.numpy()\n",
    "cmn = cm.astype('float') / cm.sum(axis=1)[:, np.newaxis]\n",
    "sns.heatmap(cmn, annot=True, fmt='.2f', xticklabels=labels, yticklabels=labels)\n",
    "plt.ylabel('Actual')\n",
    "plt.xlabel('Predicted')\n",
    "plt.show(block=False)"
   ]
  }
 ],
 "metadata": {
  "kernelspec": {
   "display_name": "Python 3 (ipykernel)",
   "language": "python",
   "name": "python3"
  },
  "language_info": {
   "codemirror_mode": {
    "name": "ipython",
    "version": 3
   },
   "file_extension": ".py",
   "mimetype": "text/x-python",
   "name": "python",
   "nbconvert_exporter": "python",
   "pygments_lexer": "ipython3",
   "version": "3.10.12"
  }
 },
 "nbformat": 4,
 "nbformat_minor": 4
}
