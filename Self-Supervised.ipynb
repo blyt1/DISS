{
 "cells": [
  {
   "cell_type": "code",
   "execution_count": 1,
   "id": "aa3a8ef0",
   "metadata": {},
   "outputs": [],
   "source": [
    "%load_ext autoreload\n",
    "%autoreload 2\n",
    "import os\n",
    "os.environ['TF_CPP_MIN_LOG_LEVEL'] = '3' \n",
    "import self_har_models\n",
    "import pickle\n",
    "import dataset_pre_processing\n",
    "import seaborn as sns\n",
    "import matplotlib.pyplot as plt\n",
    "import numpy as np\n",
    "import tensorflow as tf\n",
    "import Evaluation1\n",
    "import pandas as pd\n",
    "tf.get_logger().setLevel('INFO')"
   ]
  },
  {
   "cell_type": "code",
   "execution_count": 2,
   "id": "7a9d8660",
   "metadata": {},
   "outputs": [],
   "source": [
    "with open('pickled_datasets/pamap_har.pickle', 'rb') as file:\n",
    "    pamap_har_df = pickle.load(file)\n",
    "with open('pickled_datasets/hhar_har.pickle', 'rb') as file:\n",
    "    hhar_har_df = pickle.load(file)\n",
    "with open('pickled_datasets/motionsense_har.pickle', 'rb') as file:\n",
    "    motionsense_har_df = pickle.load(file)\n",
    "with open('pickled_datasets/harth_har.pickle', 'rb') as file:\n",
    "    harth_har_df = pickle.load(file)\n",
    "with open('pickled_datasets/dasa_har.pickle', 'rb') as file:\n",
    "    dasa_har_df = pickle.load(file)\n",
    "with open('pickled_datasets/wisdm_har.pickle', 'rb') as file:\n",
    "    wisdm_har_df = pickle.load(file)\n",
    "with open('pickled_datasets/wisdm1_har.pickle', 'rb') as file:\n",
    "    wisdm1_har_df = pickle.load(file)"
   ]
  },
  {
   "cell_type": "code",
   "execution_count": null,
   "id": "8464efb7",
   "metadata": {},
   "outputs": [],
   "source": [
    "Evaluation1.eval_fully_supervised(pamap_har_df)"
   ]
  },
  {
   "cell_type": "code",
   "execution_count": null,
   "id": "1202d01f",
   "metadata": {},
   "outputs": [],
   "source": [
    "Evaluation1.eval_fully_supervised(hhar_har_df)"
   ]
  },
  {
   "cell_type": "code",
   "execution_count": null,
   "id": "a0e83e8f",
   "metadata": {},
   "outputs": [],
   "source": [
    "Evaluation1.eval_fully_supervised(motionsense_har_df)"
   ]
  },
  {
   "cell_type": "code",
   "execution_count": null,
   "id": "486f3c91",
   "metadata": {},
   "outputs": [],
   "source": [
    "Evaluation1.eval_fully_supervised(harth_har_df)"
   ]
  },
  {
   "cell_type": "code",
   "execution_count": null,
   "id": "2a6686b5",
   "metadata": {},
   "outputs": [],
   "source": [
    "Evaluation1.eval_fully_supervised(dasa_har_df)"
   ]
  },
  {
   "cell_type": "code",
   "execution_count": null,
   "id": "2abb8e57",
   "metadata": {},
   "outputs": [],
   "source": [
    "Evaluation1.eval_fully_supervised(wisdm_har_df)"
   ]
  },
  {
   "cell_type": "code",
   "execution_count": null,
   "id": "4d262824",
   "metadata": {},
   "outputs": [],
   "source": [
    "Evaluation1.eval_fully_supervised(wisdm1_har_df)"
   ]
  }
 ],
 "metadata": {
  "kernelspec": {
   "display_name": "Python 3 (ipykernel)",
   "language": "python",
   "name": "python3"
  },
  "language_info": {
   "codemirror_mode": {
    "name": "ipython",
    "version": 3
   },
   "file_extension": ".py",
   "mimetype": "text/x-python",
   "name": "python",
   "nbconvert_exporter": "python",
   "pygments_lexer": "ipython3",
   "version": "3.10.12"
  }
 },
 "nbformat": 4,
 "nbformat_minor": 5
}
