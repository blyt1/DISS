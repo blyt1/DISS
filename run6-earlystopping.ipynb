{
 "cells": [
  {
   "cell_type": "code",
   "execution_count": 1,
   "metadata": {},
   "outputs": [],
   "source": [
    "%load_ext autoreload\n",
    "%autoreload 2\n",
    "import pickle\n",
    "import os\n",
    "os.environ['TF_CPP_MIN_LOG_LEVEL'] = '3' \n",
    "import pandas as pd\n",
    "\n",
    "import data_pre_processing\n",
    "import dataset_pre_processing\n",
    "import pre_training\n",
    "import raw_data_processing\n",
    "from raw_data_processing import process_PAMAP2_all_data, process_hhar_all_files, process_motion_sense_all_files, open_pickle\n",
    "import numpy as np\n",
    "import scipy.stats\n",
    "import data_pre_processing\n",
    "import self_har_models\n",
    "import tensorflow as tf\n",
    "import seaborn as sns\n",
    "import matplotlib.pyplot as plt\n",
    "\n",
    "tf.get_logger().setLevel('INFO')"
   ]
  },
  {
   "cell_type": "markdown",
   "metadata": {},
   "source": [
    "# Data pre-processing"
   ]
  },
  {
   "cell_type": "code",
   "execution_count": 2,
   "metadata": {},
   "outputs": [
    {
     "name": "stdout",
     "output_type": "stream",
     "text": [
      "{'IMU ankle': 0, 'IMU chest': 1, 'IMU hand': 2, 'Phone': 3, 'Watch': 4, 'iphone': 5}\n",
      "getting mean\n",
      "[-0.18597652  1.40292431  4.05411898]\n",
      "[6.31367612 5.0870368  5.47022979]\n",
      "normalising train set\n",
      "normalisnig test\n"
     ]
    }
   ],
   "source": [
    "# get data from pickle \n",
    "\n",
    "with open('pickled_datasets/pamap.pickle', 'rb') as file:\n",
    "    pamap_df = pickle.load(file)\n",
    "with open('pickled_datasets/hhar.pickle', 'rb') as file:\n",
    "    hhar_df = pickle.load(file)\n",
    "with open('pickled_datasets/motionsense.pickle', 'rb') as file:\n",
    "    motion_sense_df = pickle.load(file)\n",
    "    \n",
    "def concat_datasets(datasets, sensor_type):\n",
    "    concated_datasets = {}\n",
    "    ##TODO need to check key to see whether mag exists\n",
    "    for df in datasets:\n",
    "        concated_datasets.update(df[sensor_type])\n",
    "    return concated_datasets\n",
    "\n",
    "cdf = concat_datasets([pamap_df, hhar_df, motion_sense_df], \"acc\")\n",
    "def get_labels(data):\n",
    "    all_labels = []\n",
    "    for user in data:\n",
    "        all_labels = np.concatenate((np.unique(data[user][0][1]), all_labels))\n",
    "    labels = np.unique(all_labels)\n",
    "    return labels\n",
    "\n",
    "labels = get_labels(cdf)\n",
    "label_map = {label: index for index, label in enumerate(labels)}\n",
    "print(label_map)\n",
    "user_datasets_processed = data_pre_processing.pre_process_dataset_composite(\n",
    "    cdf, label_map, 6, \n",
    "    ['101', '102', '103', '104', '105', '106', '107', 'a', 'b', 'c', 'd', 'e', 'f', 'g', '1', '2', '3', '4', '5', '6', '7', '8', '9', '10', '11', '12', '13', '14', '15', '16', '17', '18', '19', '20'], \n",
    "    [\"108\", \"109\", \"h\", \"i\", \"21\", \"22\", \"23\", \"24\"], 400, 200\n",
    ")"
   ]
  },
  {
   "cell_type": "code",
   "execution_count": 5,
   "metadata": {},
   "outputs": [],
   "source": [
    "# implement early stopping\n",
    "callback = tf.keras.callbacks.EarlyStopping(patience=3, restore_best_weights=True)"
   ]
  },
  {
   "cell_type": "markdown",
   "metadata": {},
   "source": [
    "# Create a CNN Model"
   ]
  },
  {
   "cell_type": "code",
   "execution_count": 4,
   "metadata": {},
   "outputs": [
    {
     "name": "stdout",
     "output_type": "stream",
     "text": [
      "Epoch 1/30\n",
      "2499/2499 [==============================] - 14s 5ms/step - loss: 0.2002 - categorical_accuracy: 0.9422 - auc: 0.9946 - precision: 0.9475 - recall: 0.9368 - val_loss: 0.1989 - val_categorical_accuracy: 0.9396 - val_auc: 0.9953 - val_precision: 0.9455 - val_recall: 0.9311\n",
      "Epoch 2/30\n",
      "2499/2499 [==============================] - 12s 5ms/step - loss: 0.1418 - categorical_accuracy: 0.9595 - auc: 0.9970 - precision: 0.9619 - recall: 0.9570 - val_loss: 0.1405 - val_categorical_accuracy: 0.9635 - val_auc: 0.9976 - val_precision: 0.9663 - val_recall: 0.9618\n",
      "Epoch 3/30\n",
      "2499/2499 [==============================] - 12s 5ms/step - loss: 0.1226 - categorical_accuracy: 0.9652 - auc: 0.9976 - precision: 0.9671 - recall: 0.9634 - val_loss: 0.1678 - val_categorical_accuracy: 0.9423 - val_auc: 0.9968 - val_precision: 0.9445 - val_recall: 0.9393\n",
      "Epoch 4/30\n",
      "2499/2499 [==============================] - 12s 5ms/step - loss: 0.1145 - categorical_accuracy: 0.9683 - auc: 0.9979 - precision: 0.9697 - recall: 0.9666 - val_loss: 0.1242 - val_categorical_accuracy: 0.9703 - val_auc: 0.9977 - val_precision: 0.9728 - val_recall: 0.9680\n",
      "Epoch 5/30\n",
      "2499/2499 [==============================] - 12s 5ms/step - loss: 0.1050 - categorical_accuracy: 0.9720 - auc: 0.9982 - precision: 0.9732 - recall: 0.9707 - val_loss: 0.1512 - val_categorical_accuracy: 0.9631 - val_auc: 0.9963 - val_precision: 0.9645 - val_recall: 0.9602\n",
      "Epoch 6/30\n",
      "2499/2499 [==============================] - 12s 5ms/step - loss: 0.1012 - categorical_accuracy: 0.9731 - auc: 0.9982 - precision: 0.9742 - recall: 0.9721 - val_loss: 0.1148 - val_categorical_accuracy: 0.9733 - val_auc: 0.9977 - val_precision: 0.9742 - val_recall: 0.9724\n",
      "Epoch 7/30\n",
      "2499/2499 [==============================] - 12s 5ms/step - loss: 0.0993 - categorical_accuracy: 0.9738 - auc: 0.9982 - precision: 0.9750 - recall: 0.9730 - val_loss: 0.1770 - val_categorical_accuracy: 0.9602 - val_auc: 0.9955 - val_precision: 0.9621 - val_recall: 0.9574\n",
      "Epoch 8/30\n",
      "2499/2499 [==============================] - 12s 5ms/step - loss: 0.0939 - categorical_accuracy: 0.9768 - auc: 0.9985 - precision: 0.9777 - recall: 0.9759 - val_loss: 0.1194 - val_categorical_accuracy: 0.9709 - val_auc: 0.9977 - val_precision: 0.9724 - val_recall: 0.9684\n",
      "Epoch 9/30\n",
      "2499/2499 [==============================] - 12s 5ms/step - loss: 0.0938 - categorical_accuracy: 0.9760 - auc: 0.9984 - precision: 0.9770 - recall: 0.9750 - val_loss: 0.1180 - val_categorical_accuracy: 0.9742 - val_auc: 0.9972 - val_precision: 0.9760 - val_recall: 0.9730\n",
      "Epoch 10/30\n",
      "2499/2499 [==============================] - 12s 5ms/step - loss: 0.0913 - categorical_accuracy: 0.9764 - auc: 0.9986 - precision: 0.9773 - recall: 0.9754 - val_loss: 0.1251 - val_categorical_accuracy: 0.9675 - val_auc: 0.9980 - val_precision: 0.9701 - val_recall: 0.9631\n",
      "Epoch 11/30\n",
      "2499/2499 [==============================] - 12s 5ms/step - loss: 0.0911 - categorical_accuracy: 0.9767 - auc: 0.9985 - precision: 0.9776 - recall: 0.9758 - val_loss: 0.1329 - val_categorical_accuracy: 0.9632 - val_auc: 0.9979 - val_precision: 0.9660 - val_recall: 0.9567\n",
      "Epoch 12/30\n",
      "2499/2499 [==============================] - 12s 5ms/step - loss: 0.0880 - categorical_accuracy: 0.9777 - auc: 0.9986 - precision: 0.9786 - recall: 0.9770 - val_loss: 0.1293 - val_categorical_accuracy: 0.9694 - val_auc: 0.9973 - val_precision: 0.9703 - val_recall: 0.9682\n",
      "Epoch 13/30\n",
      "2499/2499 [==============================] - 12s 5ms/step - loss: 0.0907 - categorical_accuracy: 0.9771 - auc: 0.9985 - precision: 0.9782 - recall: 0.9765 - val_loss: 0.1359 - val_categorical_accuracy: 0.9631 - val_auc: 0.9975 - val_precision: 0.9646 - val_recall: 0.9605\n",
      "Epoch 14/30\n",
      "2499/2499 [==============================] - 12s 5ms/step - loss: 0.0881 - categorical_accuracy: 0.9781 - auc: 0.9986 - precision: 0.9788 - recall: 0.9773 - val_loss: 0.1036 - val_categorical_accuracy: 0.9736 - val_auc: 0.9985 - val_precision: 0.9747 - val_recall: 0.9724\n",
      "Epoch 15/30\n",
      "2499/2499 [==============================] - 12s 5ms/step - loss: 0.0837 - categorical_accuracy: 0.9795 - auc: 0.9988 - precision: 0.9801 - recall: 0.9788 - val_loss: 0.0981 - val_categorical_accuracy: 0.9783 - val_auc: 0.9983 - val_precision: 0.9792 - val_recall: 0.9775\n",
      "Epoch 16/30\n",
      "2499/2499 [==============================] - 12s 5ms/step - loss: 0.0868 - categorical_accuracy: 0.9787 - auc: 0.9986 - precision: 0.9794 - recall: 0.9779 - val_loss: 0.1275 - val_categorical_accuracy: 0.9666 - val_auc: 0.9978 - val_precision: 0.9692 - val_recall: 0.9645\n",
      "Epoch 17/30\n",
      "2499/2499 [==============================] - 12s 5ms/step - loss: 0.0825 - categorical_accuracy: 0.9794 - auc: 0.9988 - precision: 0.9802 - recall: 0.9787 - val_loss: 0.0929 - val_categorical_accuracy: 0.9771 - val_auc: 0.9988 - val_precision: 0.9785 - val_recall: 0.9757\n",
      "Epoch 18/30\n",
      "2499/2499 [==============================] - 12s 5ms/step - loss: 0.0847 - categorical_accuracy: 0.9791 - auc: 0.9986 - precision: 0.9799 - recall: 0.9787 - val_loss: 0.1332 - val_categorical_accuracy: 0.9674 - val_auc: 0.9973 - val_precision: 0.9704 - val_recall: 0.9657\n",
      "Epoch 19/30\n",
      "2499/2499 [==============================] - 12s 5ms/step - loss: 0.0825 - categorical_accuracy: 0.9797 - auc: 0.9988 - precision: 0.9806 - recall: 0.9788 - val_loss: 0.1111 - val_categorical_accuracy: 0.9758 - val_auc: 0.9982 - val_precision: 0.9778 - val_recall: 0.9742\n",
      "Epoch 20/30\n",
      "2499/2499 [==============================] - 12s 5ms/step - loss: 0.0819 - categorical_accuracy: 0.9799 - auc: 0.9987 - precision: 0.9805 - recall: 0.9794 - val_loss: 0.1032 - val_categorical_accuracy: 0.9747 - val_auc: 0.9983 - val_precision: 0.9754 - val_recall: 0.9743\n",
      "Epoch 21/30\n",
      "2499/2499 [==============================] - 12s 5ms/step - loss: 0.0816 - categorical_accuracy: 0.9799 - auc: 0.9987 - precision: 0.9806 - recall: 0.9793 - val_loss: 0.1088 - val_categorical_accuracy: 0.9744 - val_auc: 0.9982 - val_precision: 0.9761 - val_recall: 0.9730\n",
      "Epoch 22/30\n",
      "2499/2499 [==============================] - 12s 5ms/step - loss: 0.0846 - categorical_accuracy: 0.9793 - auc: 0.9986 - precision: 0.9802 - recall: 0.9786 - val_loss: 0.1081 - val_categorical_accuracy: 0.9691 - val_auc: 0.9984 - val_precision: 0.9704 - val_recall: 0.9683\n",
      "Epoch 23/30\n",
      "2499/2499 [==============================] - 12s 5ms/step - loss: 0.0816 - categorical_accuracy: 0.9795 - auc: 0.9987 - precision: 0.9804 - recall: 0.9788 - val_loss: 0.0999 - val_categorical_accuracy: 0.9760 - val_auc: 0.9986 - val_precision: 0.9774 - val_recall: 0.9737\n",
      "Epoch 24/30\n",
      "2499/2499 [==============================] - 12s 5ms/step - loss: 0.0798 - categorical_accuracy: 0.9802 - auc: 0.9988 - precision: 0.9811 - recall: 0.9794 - val_loss: 0.0957 - val_categorical_accuracy: 0.9775 - val_auc: 0.9987 - val_precision: 0.9789 - val_recall: 0.9763\n",
      "Epoch 25/30\n",
      "2499/2499 [==============================] - 12s 5ms/step - loss: 0.0797 - categorical_accuracy: 0.9802 - auc: 0.9989 - precision: 0.9810 - recall: 0.9797 - val_loss: 0.1387 - val_categorical_accuracy: 0.9658 - val_auc: 0.9974 - val_precision: 0.9678 - val_recall: 0.9645\n",
      "Epoch 26/30\n",
      "2499/2499 [==============================] - 12s 5ms/step - loss: 0.0810 - categorical_accuracy: 0.9802 - auc: 0.9988 - precision: 0.9809 - recall: 0.9794 - val_loss: 0.1104 - val_categorical_accuracy: 0.9700 - val_auc: 0.9985 - val_precision: 0.9717 - val_recall: 0.9682\n",
      "Epoch 27/30\n",
      "2499/2499 [==============================] - 12s 5ms/step - loss: 0.0791 - categorical_accuracy: 0.9806 - auc: 0.9988 - precision: 0.9814 - recall: 0.9798 - val_loss: 0.1178 - val_categorical_accuracy: 0.9729 - val_auc: 0.9974 - val_precision: 0.9745 - val_recall: 0.9726\n",
      "Epoch 28/30\n",
      "2499/2499 [==============================] - 12s 5ms/step - loss: 0.0787 - categorical_accuracy: 0.9808 - auc: 0.9988 - precision: 0.9817 - recall: 0.9801 - val_loss: 0.0963 - val_categorical_accuracy: 0.9771 - val_auc: 0.9983 - val_precision: 0.9780 - val_recall: 0.9758\n",
      "Epoch 29/30\n",
      "2499/2499 [==============================] - 12s 5ms/step - loss: 0.0793 - categorical_accuracy: 0.9808 - auc: 0.9987 - precision: 0.9816 - recall: 0.9801 - val_loss: 0.0961 - val_categorical_accuracy: 0.9779 - val_auc: 0.9983 - val_precision: 0.9794 - val_recall: 0.9771\n",
      "Epoch 30/30\n",
      "2499/2499 [==============================] - 12s 5ms/step - loss: 0.0787 - categorical_accuracy: 0.9814 - auc: 0.9988 - precision: 0.9821 - recall: 0.9808 - val_loss: 0.1039 - val_categorical_accuracy: 0.9734 - val_auc: 0.9981 - val_precision: 0.9744 - val_recall: 0.9726\n"
     ]
    }
   ],
   "source": [
    "test_model = self_har_models.create_1d_conv_core_model((400,3), \"HAR\")\n",
    "cnn_model = self_har_models.attach_full_har_classification_head(test_model, 6, optimizer=tf.keras.optimizers.legacy.Adam(learning_rate=0.001))\n",
    "cnn_history = cnn_model.fit(user_datasets_processed[0][0], user_datasets_processed[0][1]\n",
    "                    , epochs=30, validation_data=(user_datasets_processed[1][0], user_datasets_processed[1][1]), callbacks=[callback])"
   ]
  },
  {
   "cell_type": "code",
   "execution_count": 5,
   "metadata": {},
   "outputs": [
    {
     "data": {
      "image/png": "[encoded data removed]",
      "text/plain": [
       "<Figure size 640x480 with 1 Axes>"
      ]
     },
     "metadata": {},
     "output_type": "display_data"
    },
    {
     "name": "stdout",
     "output_type": "stream",
     "text": [
      "660/660 [==============================] - 2s 3ms/step - loss: 1.2123 - categorical_accuracy: 0.8449 - auc: 0.9469 - precision: 0.8450 - recall: 0.8447\n",
      "660/660 [==============================] - 1s 2ms/step\n"
     ]
    },
    {
     "data": {
      "image/png": "[encoded data removed]",
      "text/plain": [
       "<Figure size 640x480 with 2 Axes>"
      ]
     },
     "metadata": {},
     "output_type": "display_data"
    }
   ],
   "source": [
    "import matplotlib.pyplot as plt\n",
    "plt.plot(cnn_history.history['categorical_accuracy'], label='accuracy')\n",
    "plt.plot(cnn_history.history['val_categorical_accuracy'], label = 'val_accuracy')\n",
    "plt.xlabel('Epoch')\n",
    "plt.ylabel('Accuracy')\n",
    "plt.ylim([.9, 1])\n",
    "plt.legend(loc='lower right')\n",
    "plt.show()\n",
    "\n",
    "cnn_test_result = cnn_model.evaluate(user_datasets_processed[2][0],  user_datasets_processed[2][1], return_dict=True)\n",
    "\n",
    "predicted_labels = np.argmax(cnn_model.predict(user_datasets_processed[2][0]), axis=1)\n",
    "true_labels = np.argmax(user_datasets_processed[2][1], axis=1)\n",
    "confusion_mat = tf.math.confusion_matrix(true_labels, predicted_labels)\n",
    "cm = confusion_mat.numpy()\n",
    "cmn = cm.astype('float') / cm.sum(axis=1)[:, np.newaxis]\n",
    "sns.heatmap(cmn, annot=True, fmt='.2f', xticklabels=labels, yticklabels=labels)\n",
    "plt.ylabel('Actual')\n",
    "plt.xlabel('Predicted')\n",
    "plt.show(block=False)"
   ]
  },
  {
   "cell_type": "markdown",
   "metadata": {},
   "source": [
    "# Create LSTM-Model"
   ]
  },
  {
   "cell_type": "code",
   "execution_count": null,
   "metadata": {},
   "outputs": [],
   "source": [
    "inputs = tf.keras.Input(shape=(400,3), name='input')\n",
    "x = inputs\n",
    "x = tf.keras.layers.Bidirectional(tf.keras.layers.LSTM(96))(x)\n",
    "x = tf.keras.layers.Dense(96, activation='relu')(x)\n",
    "x = tf.keras.layers.Dense(100, activation='sigmoid')(x)\n",
    "LSTM_model = tf.keras.Model(inputs, x, name=\"LSTM-CNN\")\n",
    "print(LSTM_model.summary())\n",
    "full_LSTM_model = self_har_models.attach_full_har_classification_head(LSTM_model, 6, optimizer=tf.keras.optimizers.legacy.Adam(learning_rate=0.001))\n",
    "LSTM_history = full_LSTM_model.fit(user_datasets_processed[0][0], user_datasets_processed[0][1]\n",
    "                    , epochs=30, validation_data=(user_datasets_processed[1][0], user_datasets_processed[1][1]), callbacks=[callback])"
   ]
  },
  {
   "cell_type": "code",
   "execution_count": null,
   "metadata": {},
   "outputs": [],
   "source": [
    "import matplotlib.pyplot as plt\n",
    "plt.plot(LSTM_history.history['categorical_accuracy'], label='accuracy')\n",
    "plt.plot(LSTM_history.history['val_categorical_accuracy'], label = 'val_accuracy')\n",
    "plt.xlabel('Epoch')\n",
    "plt.ylabel('Accuracy')\n",
    "plt.ylim([.9, 1])\n",
    "plt.legend(loc='lower right')\n",
    "plt.show()\n",
    "\n",
    "lstm_test_result = full_LSTM_model.evaluate(user_datasets_processed[2][0],  user_datasets_processed[2][1], return_dict=True)\n",
    "predicted_labels = np.argmax(full_LSTM_model.predict(user_datasets_processed[2][0]), axis=1)\n",
    "true_labels = np.argmax(user_datasets_processed[2][1], axis=1)\n",
    "confusion_mat = tf.math.confusion_matrix(true_labels, predicted_labels)\n",
    "cm = confusion_mat.numpy()\n",
    "cmn = cm.astype('float') / cm.sum(axis=1)[:, np.newaxis]\n",
    "sns.heatmap(cmn, annot=True, fmt='.2f', xticklabels=labels, yticklabels=labels)\n",
    "plt.ylabel('Actual')\n",
    "plt.xlabel('Predicted')\n",
    "plt.show(block=False)"
   ]
  },
  {
   "cell_type": "code",
   "execution_count": null,
   "metadata": {},
   "outputs": [],
   "source": [
    "inputs = tf.keras.Input(shape=(400,3), name='input')\n",
    "x = inputs\n",
    "x = tf.keras.layers.Dense(300, activation='relu')(x)\n",
    "x = tf.keras.layers.Conv1D(\n",
    "        64, 3,\n",
    "        activation='relu',\n",
    "        strides = 1,\n",
    "        kernel_regularizer=tf.keras.regularizers.l2(l=1e-4)\n",
    "    )(x)\n",
    "x = tf.keras.layers.Conv1D(\n",
    "        128, 3,\n",
    "        activation='relu',\n",
    "        strides = 1,\n",
    "        kernel_regularizer=tf.keras.regularizers.l2(l=1e-4),\n",
    "    )(x)\n",
    "x = tf.keras.layers.MaxPool1D(pool_size=4, padding='valid', data_format='channels_last', strides=2)(x)\n",
    "\n",
    "x = tf.keras.layers.Conv1D(\n",
    "    128, 5,\n",
    "    activation='relu',\n",
    "    strides = 2,\n",
    "    kernel_regularizer=tf.keras.regularizers.l2(l=1e-4),\n",
    "    )(x)\n",
    "x = tf.keras.layers.Conv1D(\n",
    "    256, 5,\n",
    "    activation='relu',\n",
    "    strides = 2,\n",
    "    kernel_regularizer=tf.keras.regularizers.l2(l=1e-4),\n",
    "    )(x)\n",
    "x = tf.keras.layers.MaxPool1D(pool_size=4, padding='valid', data_format='channels_last', strides=2)(x)\n",
    "\n",
    "x = tf.keras.layers.Dropout(0.5)(x)\n",
    "x = tf.keras.layers.Bidirectional(tf.keras.layers.LSTM(96))(x)\n",
    "x = tf.keras.layers.Dropout(0.4)(x)\n",
    "# x = tf.keras.layers.Dense(96, activation='relu')(x)\n",
    "x = tf.keras.layers.Dense(100, activation='softmax')(x)\n",
    "\n",
    "CNNLSTN_model = tf.keras.Model(inputs, x, name=\"CNN-LSTM\")\n",
    "print(CNNLSTN_model.summary())"
   ]
  },
  {
   "cell_type": "code",
   "execution_count": null,
   "metadata": {},
   "outputs": [],
   "source": [
    "full_CNNLSTM_model = self_har_models.attach_full_har_classification_head(CNNLSTN_model, 6, optimizer=tf.keras.optimizers.legacy.Adam(learning_rate=0.001))\n",
    "CNNLSTM_history = full_CNNLSTM_model.fit(user_datasets_processed[0][0], user_datasets_processed[0][1]\n",
    "                    , epochs=30, validation_data=(user_datasets_processed[1][0], user_datasets_processed[1][1]), callbacks=[callback])"
   ]
  },
  {
   "cell_type": "code",
   "execution_count": null,
   "metadata": {},
   "outputs": [],
   "source": [
    "import matplotlib.pyplot as plt\n",
    "plt.plot(CNNLSTM_history.history['categorical_accuracy'], label='accuracy')\n",
    "plt.plot(CNNLSTM_history.history['val_categorical_accuracy'], label = 'val_accuracy')\n",
    "plt.xlabel('Epoch')\n",
    "plt.ylabel('Accuracy')\n",
    "plt.ylim([.9, 1])\n",
    "plt.legend(loc='lower right')\n",
    "plt.show()\n",
    "\n",
    "lstm_test_result = full_CNNLSTM_model.evaluate(user_datasets_processed[2][0],  user_datasets_processed[2][1], return_dict=True)\n",
    "predicted_labels = np.argmax(full_CNNLSTM_model.predict(user_datasets_processed[2][0]), axis=1)\n",
    "true_labels = np.argmax(user_datasets_processed[2][1], axis=1)\n",
    "confusion_mat = tf.math.confusion_matrix(true_labels, predicted_labels)\n",
    "cm = confusion_mat.numpy()\n",
    "cmn = cm.astype('float') / cm.sum(axis=1)[:, np.newaxis]\n",
    "sns.heatmap(cmn, annot=True, fmt='.2f', xticklabels=labels, yticklabels=labels)\n",
    "plt.ylabel('Actual')\n",
    "plt.xlabel('Predicted')\n",
    "plt.show(block=False)"
   ]
  },
  {
   "cell_type": "markdown",
   "metadata": {},
   "source": [
    "# Try another CNN-LSTM Model"
   ]
  },
  {
   "cell_type": "code",
   "execution_count": null,
   "metadata": {},
   "outputs": [],
   "source": [
    "inputs = tf.keras.Input(shape=(400,3), name='input')\n",
    "x = inputs\n",
    "x = tf.keras.layers.Dense(300, activation='relu')(x)\n",
    "x = tf.keras.layers.Conv1D(\n",
    "        64, 3,\n",
    "        activation='relu',\n",
    "        strides = 1,\n",
    "        kernel_regularizer=tf.keras.regularizers.l2(l=1e-4)\n",
    "    )(x)\n",
    "x = tf.keras.layers.Conv1D(\n",
    "        128, 3,\n",
    "        activation='relu',\n",
    "        strides = 1,\n",
    "        kernel_regularizer=tf.keras.regularizers.l2(l=1e-4),\n",
    "    )(x)\n",
    "x = tf.keras.layers.MaxPool1D(pool_size=4, padding='valid', data_format='channels_last', strides=2)(x)\n",
    "\n",
    "x = tf.keras.layers.Conv1D(\n",
    "    128, 5,\n",
    "    activation='relu',\n",
    "    strides = 2,\n",
    "    kernel_regularizer=tf.keras.regularizers.l2(l=1e-4),\n",
    "    )(x)\n",
    "x = tf.keras.layers.Conv1D(\n",
    "    256, 5,\n",
    "    activation='relu',\n",
    "    strides = 2,\n",
    "    kernel_regularizer=tf.keras.regularizers.l2(l=1e-4),\n",
    "    )(x)\n",
    "x = tf.keras.layers.MaxPool1D(pool_size=4, padding='valid', data_format='channels_last', strides=2)(x)\n",
    "\n",
    "x = tf.keras.layers.Dropout(0.5)(x)\n",
    "x = tf.keras.layers.Bidirectional(tf.keras.layers.LSTM(300))(x)\n",
    "x = tf.keras.layers.Dropout(0.4)(x)\n",
    "# x = tf.keras.layers.Dense(96, activation='relu')(x)\n",
    "x = tf.keras.layers.Dense(100, activation='softmax')(x)\n",
    "\n",
    "CNNLSTN2_model = tf.keras.Model(inputs, x, name=\"CNN-LSTM\")\n",
    "print(CNNLSTN2_model.summary())"
   ]
  },
  {
   "cell_type": "code",
   "execution_count": null,
   "metadata": {},
   "outputs": [],
   "source": [
    "full_CNNLSTM2_model = self_har_models.attach_full_har_classification_head(CNNLSTN2_model, 6, optimizer=tf.keras.optimizers.legacy.Adam(learning_rate=0.001))\n",
    "CNNLSTM2_history = full_CNNLSTM2_model.fit(user_datasets_processed[0][0], user_datasets_processed[0][1]\n",
    "                    , epochs=30, validation_data=(user_datasets_processed[1][0], user_datasets_processed[1][1]), callbacks=[callback])"
   ]
  },
  {
   "cell_type": "code",
   "execution_count": null,
   "metadata": {},
   "outputs": [],
   "source": [
    "\n",
    "plt.plot(CNNLSTM2_history.history['categorical_accuracy'], label='accuracy')\n",
    "plt.plot(CNNLSTM2_history.history['val_categorical_accuracy'], label = 'val_accuracy')\n",
    "plt.xlabel('Epoch')\n",
    "plt.ylabel('Accuracy')\n",
    "plt.ylim([.9, 1])\n",
    "plt.legend(loc='lower right')\n",
    "plt.show()\n",
    "\n",
    "lstm_test_result = full_CNNLSTM2_model.evaluate(user_datasets_processed[2][0],  user_datasets_processed[2][1], return_dict=True)\n",
    "predicted_labels = np.argmax(full_CNNLSTM2_model.predict(user_datasets_processed[2][0]), axis=1)\n",
    "true_labels = np.argmax(user_datasets_processed[2][1], axis=1)\n",
    "confusion_mat = tf.math.confusion_matrix(true_labels, predicted_labels)\n",
    "cm = confusion_mat.numpy()\n",
    "cmn = cm.astype('float') / cm.sum(axis=1)[:, np.newaxis]\n",
    "sns.heatmap(cmn, annot=True, fmt='.2f', xticklabels=labels, yticklabels=labels)\n",
    "plt.ylabel('Actual')\n",
    "plt.xlabel('Predicted')\n",
    "plt.show(block=False)"
   ]
  },
  {
   "cell_type": "markdown",
   "metadata": {},
   "source": [
    "# LSTM-CNN Model"
   ]
  },
  {
   "cell_type": "code",
   "execution_count": 6,
   "metadata": {},
   "outputs": [
    {
     "name": "stdout",
     "output_type": "stream",
     "text": [
      "Model: \"LSTM-CNN\"\n",
      "_________________________________________________________________\n",
      " Layer (type)                Output Shape              Param #   \n",
      "=================================================================\n",
      " input (InputLayer)          [(None, 400, 3)]          0         \n",
      "                                                                 \n",
      " lstm (LSTM)                 (None, 400, 300)          364800    \n",
      "                                                                 \n",
      " lstm_1 (LSTM)               (None, 400, 300)          721200    \n",
      "                                                                 \n",
      " conv1d (Conv1D)             (None, 377, 32)           230432    \n",
      "                                                                 \n",
      " dropout (Dropout)           (None, 377, 32)           0         \n",
      "                                                                 \n",
      " conv1d_1 (Conv1D)           (None, 362, 64)           32832     \n",
      "                                                                 \n",
      " dropout_1 (Dropout)         (None, 362, 64)           0         \n",
      "                                                                 \n",
      " conv1d_2 (Conv1D)           (None, 355, 96)           49248     \n",
      "                                                                 \n",
      " dropout_2 (Dropout)         (None, 355, 96)           0         \n",
      "                                                                 \n",
      " global_max_pooling1d (Globa  (None, 96)               0         \n",
      " lMaxPooling1D)                                                  \n",
      "                                                                 \n",
      "=================================================================\n",
      "Total params: 1,398,512\n",
      "Trainable params: 1,398,512\n",
      "Non-trainable params: 0\n",
      "_________________________________________________________________\n",
      "None\n"
     ]
    }
   ],
   "source": [
    "inputs = tf.keras.Input(shape=(400,3), name='input')\n",
    "x = inputs\n",
    "# x = tf.keras.layers.Bidirectional(tf.keras.layers.LSTM(300, return_sequences=True, return_state=True))(x)\n",
    "x = tf.keras.layers.LSTM(300, return_sequences=True)(x)\n",
    "x = tf.keras.layers.LSTM(300, return_sequences=True)(x)\n",
    "x = tf.keras.layers.Conv1D(\n",
    "        32, 24,\n",
    "        activation='relu',\n",
    "        kernel_regularizer=tf.keras.regularizers.l2(l=1e-4)\n",
    "    )(x)\n",
    "x = tf.keras.layers.Dropout(0.1)(x)\n",
    "\n",
    "x = tf.keras.layers.Conv1D(\n",
    "        64, 16,\n",
    "        activation='relu',\n",
    "        kernel_regularizer=tf.keras.regularizers.l2(l=1e-4),\n",
    "    )(x)\n",
    "x = tf.keras.layers.Dropout(0.1)(x)\n",
    "\n",
    "x = tf.keras.layers.Conv1D(\n",
    "    96, 8,\n",
    "    activation='relu',\n",
    "    kernel_regularizer=tf.keras.regularizers.l2(l=1e-4),\n",
    "    )(x)\n",
    "x = tf.keras.layers.Dropout(0.1)(x)\n",
    "x = tf.keras.layers.GlobalMaxPool1D(data_format='channels_last', name='global_max_pooling1d')(x) \n",
    "\n",
    "LSTMCNN_model = tf.keras.Model(inputs, x, name=\"LSTM-CNN\")\n",
    "print(LSTMCNN_model.summary())"
   ]
  },
  {
   "cell_type": "code",
   "execution_count": null,
   "metadata": {},
   "outputs": [
    {
     "name": "stdout",
     "output_type": "stream",
     "text": [
      "Epoch 1/30\n",
      "2499/2499 [==============================] - 122s 47ms/step - loss: 0.2458 - categorical_accuracy: 0.9305 - auc: 0.9925 - precision: 0.9381 - recall: 0.9231 - val_loss: 0.1803 - val_categorical_accuracy: 0.9487 - val_auc: 0.9968 - val_precision: 0.9561 - val_recall: 0.9436\n",
      "Epoch 2/30\n",
      "2499/2499 [==============================] - 117s 47ms/step - loss: 0.1641 - categorical_accuracy: 0.9523 - auc: 0.9963 - precision: 0.9555 - recall: 0.9496 - val_loss: 0.1623 - val_categorical_accuracy: 0.9574 - val_auc: 0.9979 - val_precision: 0.9621 - val_recall: 0.9482\n",
      "Epoch 3/30\n",
      "2499/2499 [==============================] - 117s 47ms/step - loss: 0.1424 - categorical_accuracy: 0.9588 - auc: 0.9969 - precision: 0.9613 - recall: 0.9568 - val_loss: 0.1606 - val_categorical_accuracy: 0.9590 - val_auc: 0.9971 - val_precision: 0.9660 - val_recall: 0.9520\n",
      "Epoch 4/30\n",
      "2499/2499 [==============================] - 117s 47ms/step - loss: 0.1226 - categorical_accuracy: 0.9645 - auc: 0.9977 - precision: 0.9664 - recall: 0.9627 - val_loss: 0.1350 - val_categorical_accuracy: 0.9641 - val_auc: 0.9980 - val_precision: 0.9689 - val_recall: 0.9593\n",
      "Epoch 5/30\n",
      "2499/2499 [==============================] - 117s 47ms/step - loss: 0.1157 - categorical_accuracy: 0.9677 - auc: 0.9978 - precision: 0.9692 - recall: 0.9659 - val_loss: 0.1213 - val_categorical_accuracy: 0.9688 - val_auc: 0.9987 - val_precision: 0.9731 - val_recall: 0.9654\n",
      "Epoch 6/30\n",
      "2499/2499 [==============================] - 117s 47ms/step - loss: 0.1031 - categorical_accuracy: 0.9718 - auc: 0.9981 - precision: 0.9731 - recall: 0.9705 - val_loss: 0.1002 - val_categorical_accuracy: 0.9772 - val_auc: 0.9989 - val_precision: 0.9803 - val_recall: 0.9738\n",
      "Epoch 7/30\n",
      "2499/2499 [==============================] - 117s 47ms/step - loss: 0.0988 - categorical_accuracy: 0.9743 - auc: 0.9983 - precision: 0.9754 - recall: 0.9732 - val_loss: 0.1117 - val_categorical_accuracy: 0.9697 - val_auc: 0.9985 - val_precision: 0.9708 - val_recall: 0.9686\n",
      "Epoch 8/30\n",
      "2499/2499 [==============================] - 117s 47ms/step - loss: 0.0866 - categorical_accuracy: 0.9781 - auc: 0.9987 - precision: 0.9794 - recall: 0.9770 - val_loss: 0.0986 - val_categorical_accuracy: 0.9732 - val_auc: 0.9989 - val_precision: 0.9753 - val_recall: 0.9716\n",
      "Epoch 9/30\n",
      " 507/2499 [=====>........................] - ETA: 1:25 - loss: 0.0810 - categorical_accuracy: 0.9790 - auc: 0.9989 - precision: 0.9799 - recall: 0.9778"
     ]
    }
   ],
   "source": [
    "full_LSTMCNN_model = self_har_models.attach_full_har_classification_head(LSTMCNN_model, 6, optimizer=tf.keras.optimizers.legacy.Adam(learning_rate=0.001))\n",
    "LSTMCNN_history = full_LSTMCNN_model.fit(user_datasets_processed[0][0], user_datasets_processed[0][1]\n",
    "                    , epochs=30, validation_data=(user_datasets_processed[1][0], user_datasets_processed[1][1]), callbacks=[callback])"
   ]
  },
  {
   "cell_type": "code",
   "execution_count": null,
   "metadata": {},
   "outputs": [],
   "source": [
    "plt.plot(LSTMCNN_history.history['categorical_accuracy'], label='accuracy')\n",
    "plt.plot(LSTMCNN_history.history['val_categorical_accuracy'], label = 'val_accuracy')\n",
    "plt.xlabel('Epoch')\n",
    "plt.ylabel('Accuracy')\n",
    "plt.ylim([.9, 1])\n",
    "plt.legend(loc='lower right')\n",
    "plt.show()\n",
    "\n",
    "lstm_test_result = full_LSTMCNN_model.evaluate(user_datasets_processed[2][0],  user_datasets_processed[2][1], return_dict=True)\n",
    "predicted_labels = np.argmax(full_LSTMCNN_model.predict(user_datasets_processed[2][0]), axis=1)\n",
    "true_labels = np.argmax(user_datasets_processed[2][1], axis=1)\n",
    "confusion_mat = tf.math.confusion_matrix(true_labels, predicted_labels)\n",
    "cm = confusion_mat.numpy()\n",
    "cmn = cm.astype('float') / cm.sum(axis=1)[:, np.newaxis]\n",
    "sns.heatmap(cmn, annot=True, fmt='.2f', xticklabels=labels, yticklabels=labels)\n",
    "plt.ylabel('Actual')\n",
    "plt.xlabel('Predicted')\n",
    "plt.show(block=False)"
   ]
  }
 ],
 "metadata": {
  "kernelspec": {
   "display_name": "Python 3 (ipykernel)",
   "language": "python",
   "name": "python3"
  },
  "language_info": {
   "codemirror_mode": {
    "name": "ipython",
    "version": 3
   },
   "file_extension": ".py",
   "mimetype": "text/x-python",
   "name": "python",
   "nbconvert_exporter": "python",
   "pygments_lexer": "ipython3",
   "version": "3.10.12"
  }
 },
 "nbformat": 4,
 "nbformat_minor": 4
}
