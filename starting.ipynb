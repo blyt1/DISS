{
 "cells": [
  {
   "cell_type": "code",
   "execution_count": 15,
   "metadata": {},
   "outputs": [
    {
     "name": "stdout",
     "output_type": "stream",
     "text": [
      "The autoreload extension is already loaded. To reload it, use:\n",
      "  %reload_ext autoreload\n"
     ]
    }
   ],
   "source": [
    "%load_ext autoreload\n",
    "%autoreload 2\n",
    "import pickle\n",
    "\n",
    "import pandas as pd\n",
    "\n",
    "import data_pre_processing\n",
    "import dataset_pre_processing\n",
    "import pre_training\n",
    "import raw_data_processing\n",
    "from raw_data_processing import process_PAMAP2_all_data, process_hhar_all_files, process_motion_sense_all_files, open_pickle\n",
    "import numpy as np\n",
    "import scipy.stats\n",
    "import data_pre_processing\n",
    "import self_har_models\n",
    "import tensorflow as tf\n",
    "import seaborn as sns\n"
   ]
  },
  {
   "cell_type": "code",
   "execution_count": 9,
   "metadata": {},
   "outputs": [],
   "source": [
    "with open('pickled_datasets/pamap.pickle', 'rb') as file:\n",
    "    pamap_df = pickle.load(file)\n",
    "with open('pickled_datasets/hhar.pickle', 'rb') as file:\n",
    "    hhar_df = pickle.load(file)\n",
    "with open('pickled_datasets/motionsense.pickle', 'rb') as file:\n",
    "    motion_sense_df = pickle.load(file)"
   ]
  },
  {
   "cell_type": "code",
   "execution_count": 10,
   "metadata": {},
   "outputs": [],
   "source": [
    "def concat_datasets(datasets, sensor_type):\n",
    "    concated_datasets = {}\n",
    "    ##TODO need to check key to see whether mag exists\n",
    "    for df in datasets:\n",
    "        concated_datasets.update(df[sensor_type])\n",
    "    return concated_datasets\n",
    "\n",
    "cdf = concat_datasets([pamap_df, hhar_df, motion_sense_df], \"acc\")"
   ]
  },
  {
   "cell_type": "code",
   "execution_count": 11,
   "metadata": {},
   "outputs": [
    {
     "name": "stdout",
     "output_type": "stream",
     "text": [
      "{'IMU ankle': 0, 'IMU chest': 1, 'IMU hand': 2, 'Phone': 3, 'Watch': 4, 'iphone': 5}\n"
     ]
    }
   ],
   "source": [
    "def get_labels(data):\n",
    "    all_labels = []\n",
    "    for user in data:\n",
    "        all_labels = np.concatenate((np.unique(data[user][0][1]), all_labels))\n",
    "    labels = np.unique(all_labels)\n",
    "    return labels\n",
    "\n",
    "labels = get_labels(cdf)\n",
    "label_map = {label: index for index, label in enumerate(labels)}\n",
    "print(label_map)"
   ]
  },
  {
   "cell_type": "code",
   "execution_count": 12,
   "metadata": {},
   "outputs": [
    {
     "name": "stdout",
     "output_type": "stream",
     "text": [
      "here\n",
      "splitting training\n",
      "normalising\n",
      "getting mean\n",
      "0\n",
      "[-0.18597652  1.40292431  4.05411898]\n",
      "[6.31367612 5.0870368  5.47022979]\n",
      "normalising train set\n",
      "normalisnig test\n",
      "mapping\n",
      "Test\n",
      "(array(['IMU ankle', 'IMU chest', 'IMU hand', 'Phone', 'Watch', 'iphone'],\n",
      "      dtype='<U9'), array([ 2070,  2076,  2071, 12825,   995,  1080]))\n",
      "(array([0, 1, 2, 3, 4, 5]), array([ 2070,  2076,  2071, 12825,   995,  1080]))\n",
      "-----------------\n",
      "Train\n",
      "(array(['IMU ankle', 'IMU chest', 'IMU hand', 'Phone', 'Watch', 'iphone'],\n",
      "      dtype='<U9'), array([12224, 12270, 12221, 43567, 14100,  5550]))\n",
      "(array([0, 1, 2, 3, 4, 5]), array([12224, 12270, 12221, 43567, 14100,  5550]))\n",
      "-----------------\n",
      "Training data shape: (79945, 400, 3)\n",
      "Validation data shape: (19987, 400, 3)\n",
      "Testing data shape: (21117, 400, 3)\n"
     ]
    }
   ],
   "source": [
    "user_datasets_processed = data_pre_processing.pre_process_dataset_composite(\n",
    "    cdf, label_map, 6, \n",
    "    ['101', '102', '103', '104', '105', '106', '107', 'a', 'b', 'c', 'd', 'e', 'f', 'g', '1', '2', '3', '4', '5', '6', '7', '8', '9', '10', '11', '12', '13', '14', '15', '16', '17', '18', '19', '20'], \n",
    "    [\"108\", \"109\", \"h\", \"i\", \"21\", \"22\", \"23\", \"24\"], 400, 200, verbose=1\n",
    ")"
   ]
  },
  {
   "cell_type": "code",
   "execution_count": 30,
   "metadata": {},
   "outputs": [],
   "source": [
    "test_model = self_har_models.create_1d_conv_core_model((400,3), \"HAR\")\n"
   ]
  },
  {
   "cell_type": "code",
   "execution_count": 31,
   "metadata": {},
   "outputs": [
    {
     "name": "stdout",
     "output_type": "stream",
     "text": [
      "Model: \"HAR\"\n",
      "_________________________________________________________________\n",
      " Layer (type)                Output Shape              Param #   \n",
      "=================================================================\n",
      " input (InputLayer)          [(None, 400, 3)]          0         \n",
      "                                                                 \n",
      " conv1d_27 (Conv1D)          (None, 377, 32)           2336      \n",
      "                                                                 \n",
      " dropout_27 (Dropout)        (None, 377, 32)           0         \n",
      "                                                                 \n",
      " conv1d_28 (Conv1D)          (None, 362, 64)           32832     \n",
      "                                                                 \n",
      " dropout_28 (Dropout)        (None, 362, 64)           0         \n",
      "                                                                 \n",
      " conv1d_29 (Conv1D)          (None, 355, 96)           49248     \n",
      "                                                                 \n",
      " dropout_29 (Dropout)        (None, 355, 96)           0         \n",
      "                                                                 \n",
      " global_max_pooling1d (Glob  (None, 96)                0         \n",
      " alMaxPooling1D)                                                 \n",
      "                                                                 \n",
      "=================================================================\n",
      "Total params: 84416 (329.75 KB)\n",
      "Trainable params: 84416 (329.75 KB)\n",
      "Non-trainable params: 0 (0.00 Byte)\n",
      "_________________________________________________________________\n",
      "None\n"
     ]
    }
   ],
   "source": [
    "print(test_model.summary())"
   ]
  },
  {
   "cell_type": "code",
   "execution_count": 13,
   "metadata": {},
   "outputs": [
    {
     "name": "stderr",
     "output_type": "stream",
     "text": [
      "2023-10-25 12:13:22.963137: W tensorflow/tsl/framework/cpu_allocator_impl.cc:83] Allocation of 383736000 exceeds 10% of free system memory.\n",
      "2023-10-25 12:13:23.290459: W tensorflow/tsl/framework/cpu_allocator_impl.cc:83] Allocation of 383736000 exceeds 10% of free system memory.\n"
     ]
    },
    {
     "name": "stdout",
     "output_type": "stream",
     "text": [
      "Epoch 1/10\n"
     ]
    },
    {
     "name": "stderr",
     "output_type": "stream",
     "text": [
      "2023-10-25 12:13:24.578752: I tensorflow/compiler/xla/stream_executor/cuda/cuda_dnn.cc:424] Loaded cuDNN version 8901\n",
      "2023-10-25 12:13:25.206765: I tensorflow/compiler/xla/stream_executor/cuda/cuda_blas.cc:655] TensorFloat-32 will be used for the matrix multiplication. This will only be logged once.\n"
     ]
    },
    {
     "name": "stdout",
     "output_type": "stream",
     "text": [
      "2499/2499 [==============================] - ETA: 0s - loss: 0.2015 - categorical_accuracy: 0.9422 - auc: 0.9944 - precision: 0.9476 - recall: 0.9362"
     ]
    },
    {
     "name": "stderr",
     "output_type": "stream",
     "text": [
      "2023-10-25 12:13:36.997954: W tensorflow/tsl/framework/cpu_allocator_impl.cc:83] Allocation of 95937600 exceeds 10% of free system memory.\n",
      "2023-10-25 12:13:37.089199: W tensorflow/tsl/framework/cpu_allocator_impl.cc:83] Allocation of 95937600 exceeds 10% of free system memory.\n"
     ]
    },
    {
     "name": "stdout",
     "output_type": "stream",
     "text": [
      "2499/2499 [==============================] - 16s 5ms/step - loss: 0.2015 - categorical_accuracy: 0.9422 - auc: 0.9944 - precision: 0.9476 - recall: 0.9362 - val_loss: 0.1795 - val_categorical_accuracy: 0.9550 - val_auc: 0.9965 - val_precision: 0.9601 - val_recall: 0.9403\n",
      "Epoch 2/10\n",
      "2499/2499 [==============================] - 13s 5ms/step - loss: 0.1427 - categorical_accuracy: 0.9590 - auc: 0.9969 - precision: 0.9614 - recall: 0.9569 - val_loss: 0.1529 - val_categorical_accuracy: 0.9575 - val_auc: 0.9973 - val_precision: 0.9624 - val_recall: 0.9515\n",
      "Epoch 3/10\n",
      "2499/2499 [==============================] - 12s 5ms/step - loss: 0.1226 - categorical_accuracy: 0.9660 - auc: 0.9976 - precision: 0.9676 - recall: 0.9644 - val_loss: 0.1550 - val_categorical_accuracy: 0.9572 - val_auc: 0.9977 - val_precision: 0.9630 - val_recall: 0.9525\n",
      "Epoch 4/10\n",
      "2499/2499 [==============================] - 12s 5ms/step - loss: 0.1105 - categorical_accuracy: 0.9701 - auc: 0.9980 - precision: 0.9715 - recall: 0.9688 - val_loss: 0.1578 - val_categorical_accuracy: 0.9599 - val_auc: 0.9958 - val_precision: 0.9621 - val_recall: 0.9560\n",
      "Epoch 5/10\n",
      "2499/2499 [==============================] - 12s 5ms/step - loss: 0.1045 - categorical_accuracy: 0.9729 - auc: 0.9981 - precision: 0.9741 - recall: 0.9716 - val_loss: 0.1242 - val_categorical_accuracy: 0.9669 - val_auc: 0.9974 - val_precision: 0.9695 - val_recall: 0.9653\n",
      "Epoch 6/10\n",
      "2499/2499 [==============================] - 12s 5ms/step - loss: 0.0992 - categorical_accuracy: 0.9741 - auc: 0.9984 - precision: 0.9753 - recall: 0.9732 - val_loss: 0.1292 - val_categorical_accuracy: 0.9704 - val_auc: 0.9976 - val_precision: 0.9733 - val_recall: 0.9663\n",
      "Epoch 7/10\n",
      "2499/2499 [==============================] - 12s 5ms/step - loss: 0.0944 - categorical_accuracy: 0.9759 - auc: 0.9985 - precision: 0.9769 - recall: 0.9752 - val_loss: 0.1928 - val_categorical_accuracy: 0.9521 - val_auc: 0.9940 - val_precision: 0.9547 - val_recall: 0.9507\n",
      "Epoch 8/10\n",
      "2499/2499 [==============================] - 12s 5ms/step - loss: 0.0952 - categorical_accuracy: 0.9761 - auc: 0.9985 - precision: 0.9768 - recall: 0.9753 - val_loss: 0.1238 - val_categorical_accuracy: 0.9654 - val_auc: 0.9979 - val_precision: 0.9677 - val_recall: 0.9640\n",
      "Epoch 9/10\n",
      "2499/2499 [==============================] - 12s 5ms/step - loss: 0.0925 - categorical_accuracy: 0.9766 - auc: 0.9985 - precision: 0.9776 - recall: 0.9757 - val_loss: 0.1105 - val_categorical_accuracy: 0.9737 - val_auc: 0.9983 - val_precision: 0.9745 - val_recall: 0.9729\n",
      "Epoch 10/10\n",
      "2499/2499 [==============================] - 12s 5ms/step - loss: 0.0921 - categorical_accuracy: 0.9767 - auc: 0.9986 - precision: 0.9776 - recall: 0.9757 - val_loss: 0.1248 - val_categorical_accuracy: 0.9665 - val_auc: 0.9980 - val_precision: 0.9679 - val_recall: 0.9651\n"
     ]
    }
   ],
   "source": [
    "test_model = self_har_models.create_1d_conv_core_model((400,3), \"HAR\")\n",
    "full_model = self_har_models.attach_full_har_classification_head(test_model, 6, optimizer=tf.keras.optimizers.legacy.Adam(learning_rate=0.001))\n",
    "history = full_model.fit(user_datasets_processed[0][0], user_datasets_processed[0][1]\n",
    "                    , epochs=10, validation_data=(user_datasets_processed[1][0], user_datasets_processed[1][1]))"
   ]
  },
  {
   "cell_type": "code",
   "execution_count": 19,
   "metadata": {},
   "outputs": [
    {
     "name": "stdout",
     "output_type": "stream",
     "text": [
      "660/660 [==============================] - 12s 18ms/step - loss: 0.7332 - categorical_accuracy: 0.8794 - auc: 0.9496 - precision: 0.8813 - recall: 0.8790\n"
     ]
    },
    {
     "data": {
      "image/png": "[encoded data removed]",
      "text/plain": [
       "<Figure size 640x480 with 1 Axes>"
      ]
     },
     "metadata": {},
     "output_type": "display_data"
    }
   ],
   "source": [
    "import matplotlib.pyplot as plt\n",
    "plt.plot(history.history['categorical_accuracy'], label='accuracy')\n",
    "plt.plot(history.history['val_categorical_accuracy'], label = 'val_accuracy')\n",
    "plt.xlabel('Epoch')\n",
    "plt.ylabel('Accuracy')\n",
    "plt.ylim([.9, 1])\n",
    "plt.legend(loc='lower right')\n",
    "\n",
    "test_result = full_model.evaluate(user_datasets_processed[2][0],  user_datasets_processed[2][1], return_dict=True)"
   ]
  },
  {
   "cell_type": "code",
   "execution_count": 24,
   "metadata": {},
   "outputs": [
    {
     "name": "stdout",
     "output_type": "stream",
     "text": [
      "660/660 [==============================] - 5s 7ms/step - loss: 0.6248 - categorical_accuracy: 0.8362 - auc: 0.9625 - precision: 0.8546 - recall: 0.8294\n",
      "660/660 [==============================] - 5s 7ms/step\n"
     ]
    }
   ],
   "source": [
    "self_har_models.save_model_results(full_model, user_datasets_processed[2][0],  user_datasets_processed[2][1], \"test_results.txt\")"
   ]
  },
  {
   "cell_type": "code",
   "execution_count": 22,
   "metadata": {},
   "outputs": [
    {
     "name": "stdout",
     "output_type": "stream",
     "text": [
      "{'loss': 0.6247720122337341, 'categorical_accuracy': 0.8361983299255371, 'auc': 0.9624589681625366, 'precision': 0.8545987010002136, 'recall': 0.8294265270233154}\n"
     ]
    }
   ],
   "source": [
    "print(test_result)"
   ]
  },
  {
   "cell_type": "code",
   "execution_count": 16,
   "metadata": {},
   "outputs": [
    {
     "name": "stdout",
     "output_type": "stream",
     "text": [
      "660/660 [==============================] - 1s 2ms/step\n"
     ]
    },
    {
     "data": {
      "text/plain": [
       "<Axes: >"
      ]
     },
     "execution_count": 16,
     "metadata": {},
     "output_type": "execute_result"
    },
    {
     "data": {
      "image/png": "[encoded data removed]",
      "text/plain": [
       "<Figure size 640x480 with 2 Axes>"
      ]
     },
     "metadata": {},
     "output_type": "display_data"
    }
   ],
   "source": [
    "predicted_labels = np.argmax(full_model.predict(user_datasets_processed[2][0]), axis=1)\n",
    "true_labels = np.argmax(user_datasets_processed[2][1], axis=1)\n",
    "confusion_mat = tf.math.confusion_matrix(true_labels, predicted_labels)\n",
    "sns.heatmap(confusion_mat/np.sum(confusion_mat), annot=True, \n",
    "            fmt='.2%', cmap='Blues')"
   ]
  },
  {
   "cell_type": "code",
   "execution_count": 33,
   "metadata": {},
   "outputs": [],
   "source": [
    "inputs = tf.keras.Input(shape=(400,3), name='input')\n",
    "x = inputs\n",
    "x = tf.keras.layers.Conv1D(\n",
    "        32, 24,\n",
    "        activation='relu',\n",
    "        kernel_regularizer=tf.keras.regularizers.l2(l=1e-4)\n",
    "    )(x)\n",
    "x = tf.keras.layers.Dropout(0.1)(x)\n",
    "\n",
    "x = tf.keras.layers.Conv1D(\n",
    "        64, 16,\n",
    "        activation='relu',\n",
    "        kernel_regularizer=tf.keras.regularizers.l2(l=1e-4),\n",
    "    )(x)\n",
    "x = tf.keras.layers.Dropout(0.1)(x)\n",
    "\n",
    "x = tf.keras.layers.Conv1D(\n",
    "    96, 8,\n",
    "    activation='relu',\n",
    "    kernel_regularizer=tf.keras.regularizers.l2(l=1e-4),\n",
    "    )(x)\n",
    "x = tf.keras.layers.Dropout(0.1)(x)\n",
    "x = tf.keras.layers.Bidirectional(tf.keras.layers.LSTM(96))(x)\n",
    "x = tf.keras.layers.Dense(96, activation='relu')(x)\n",
    "x = tf.keras.layers.Dense(100, activation='sigmoid')(x)\n",
    "\n",
    "this_model = tf.keras.Model(inputs, x, name=\"LSTM\")\n"
   ]
  },
  {
   "cell_type": "code",
   "execution_count": 17,
   "metadata": {},
   "outputs": [
    {
     "name": "stderr",
     "output_type": "stream",
     "text": [
      "2023-10-25 12:19:18.915635: I tensorflow/core/common_runtime/executor.cc:1209] [/device:CPU:0] (DEBUG INFO) Executor start aborting (this does not indicate an error and you can ignore this message): INVALID_ARGUMENT: You must feed a value for placeholder tensor 'gradients/split_2_grad/concat/split_2/split_dim' with dtype int32\n",
      "\t [[{{node gradients/split_2_grad/concat/split_2/split_dim}}]]\n",
      "2023-10-25 12:19:18.917437: I tensorflow/core/common_runtime/executor.cc:1209] [/device:CPU:0] (DEBUG INFO) Executor start aborting (this does not indicate an error and you can ignore this message): INVALID_ARGUMENT: You must feed a value for placeholder tensor 'gradients/split_grad/concat/split/split_dim' with dtype int32\n",
      "\t [[{{node gradients/split_grad/concat/split/split_dim}}]]\n",
      "2023-10-25 12:19:18.918786: I tensorflow/core/common_runtime/executor.cc:1209] [/device:CPU:0] (DEBUG INFO) Executor start aborting (this does not indicate an error and you can ignore this message): INVALID_ARGUMENT: You must feed a value for placeholder tensor 'gradients/split_1_grad/concat/split_1/split_dim' with dtype int32\n",
      "\t [[{{node gradients/split_1_grad/concat/split_1/split_dim}}]]\n",
      "2023-10-25 12:19:19.048739: I tensorflow/core/common_runtime/executor.cc:1209] [/device:CPU:0] (DEBUG INFO) Executor start aborting (this does not indicate an error and you can ignore this message): INVALID_ARGUMENT: You must feed a value for placeholder tensor 'gradients/ReverseV2_grad/ReverseV2/ReverseV2/axis' with dtype int32 and shape [1]\n",
      "\t [[{{node gradients/ReverseV2_grad/ReverseV2/ReverseV2/axis}}]]\n",
      "2023-10-25 12:19:19.093471: I tensorflow/core/common_runtime/executor.cc:1209] [/device:CPU:0] (DEBUG INFO) Executor start aborting (this does not indicate an error and you can ignore this message): INVALID_ARGUMENT: You must feed a value for placeholder tensor 'gradients/split_2_grad/concat/split_2/split_dim' with dtype int32\n",
      "\t [[{{node gradients/split_2_grad/concat/split_2/split_dim}}]]\n",
      "2023-10-25 12:19:19.095028: I tensorflow/core/common_runtime/executor.cc:1209] [/device:CPU:0] (DEBUG INFO) Executor start aborting (this does not indicate an error and you can ignore this message): INVALID_ARGUMENT: You must feed a value for placeholder tensor 'gradients/split_grad/concat/split/split_dim' with dtype int32\n",
      "\t [[{{node gradients/split_grad/concat/split/split_dim}}]]\n",
      "2023-10-25 12:19:19.096298: I tensorflow/core/common_runtime/executor.cc:1209] [/device:CPU:0] (DEBUG INFO) Executor start aborting (this does not indicate an error and you can ignore this message): INVALID_ARGUMENT: You must feed a value for placeholder tensor 'gradients/split_1_grad/concat/split_1/split_dim' with dtype int32\n",
      "\t [[{{node gradients/split_1_grad/concat/split_1/split_dim}}]]\n"
     ]
    },
    {
     "name": "stdout",
     "output_type": "stream",
     "text": [
      "Model: \"LSTM-CNN\"\n",
      "_________________________________________________________________\n",
      " Layer (type)                Output Shape              Param #   \n",
      "=================================================================\n",
      " input (InputLayer)          [(None, 400, 3)]          0         \n",
      "                                                                 \n",
      " bidirectional (Bidirectiona  (None, 800)              1292800   \n",
      " l)                                                              \n",
      "                                                                 \n",
      " dense_2 (Dense)             (None, 10)                8010      \n",
      "                                                                 \n",
      " dense_3 (Dense)             (None, 10)                110       \n",
      "                                                                 \n",
      "=================================================================\n",
      "Total params: 1,300,920\n",
      "Trainable params: 1,300,920\n",
      "Non-trainable params: 0\n",
      "_________________________________________________________________\n",
      "None\n"
     ]
    }
   ],
   "source": [
    "inputs = tf.keras.Input(shape=(400,3), name='input')\n",
    "x = inputs\n",
    "x = tf.keras.layers.Bidirectional(tf.keras.layers.LSTM(400))(x)\n",
    "x = tf.keras.layers.Dense(10, activation='relu')(x)\n",
    "x = tf.keras.layers.Dense(10, activation='sigmoid')(x)\n",
    "LSTM_CNN_model = tf.keras.Model(inputs, x, name=\"LSTM-CNN\")\n",
    "print(LSTM_CNN_model.summary())"
   ]
  },
  {
   "cell_type": "code",
   "execution_count": 18,
   "metadata": {},
   "outputs": [
    {
     "name": "stderr",
     "output_type": "stream",
     "text": [
      "2023-10-25 12:19:32.642506: I tensorflow/core/common_runtime/executor.cc:1209] [/device:CPU:0] (DEBUG INFO) Executor start aborting (this does not indicate an error and you can ignore this message): INVALID_ARGUMENT: You must feed a value for placeholder tensor 'gradients/split_2_grad/concat/split_2/split_dim' with dtype int32\n",
      "\t [[{{node gradients/split_2_grad/concat/split_2/split_dim}}]]\n",
      "2023-10-25 12:19:32.644555: I tensorflow/core/common_runtime/executor.cc:1209] [/device:CPU:0] (DEBUG INFO) Executor start aborting (this does not indicate an error and you can ignore this message): INVALID_ARGUMENT: You must feed a value for placeholder tensor 'gradients/split_grad/concat/split/split_dim' with dtype int32\n",
      "\t [[{{node gradients/split_grad/concat/split/split_dim}}]]\n",
      "2023-10-25 12:19:32.646147: I tensorflow/core/common_runtime/executor.cc:1209] [/device:CPU:0] (DEBUG INFO) Executor start aborting (this does not indicate an error and you can ignore this message): INVALID_ARGUMENT: You must feed a value for placeholder tensor 'gradients/split_1_grad/concat/split_1/split_dim' with dtype int32\n",
      "\t [[{{node gradients/split_1_grad/concat/split_1/split_dim}}]]\n",
      "2023-10-25 12:19:32.778757: I tensorflow/core/common_runtime/executor.cc:1209] [/device:CPU:0] (DEBUG INFO) Executor start aborting (this does not indicate an error and you can ignore this message): INVALID_ARGUMENT: You must feed a value for placeholder tensor 'gradients/ReverseV2_grad/ReverseV2/ReverseV2/axis' with dtype int32 and shape [1]\n",
      "\t [[{{node gradients/ReverseV2_grad/ReverseV2/ReverseV2/axis}}]]\n",
      "2023-10-25 12:19:32.823665: I tensorflow/core/common_runtime/executor.cc:1209] [/device:CPU:0] (DEBUG INFO) Executor start aborting (this does not indicate an error and you can ignore this message): INVALID_ARGUMENT: You must feed a value for placeholder tensor 'gradients/split_2_grad/concat/split_2/split_dim' with dtype int32\n",
      "\t [[{{node gradients/split_2_grad/concat/split_2/split_dim}}]]\n",
      "2023-10-25 12:19:32.825169: I tensorflow/core/common_runtime/executor.cc:1209] [/device:CPU:0] (DEBUG INFO) Executor start aborting (this does not indicate an error and you can ignore this message): INVALID_ARGUMENT: You must feed a value for placeholder tensor 'gradients/split_grad/concat/split/split_dim' with dtype int32\n",
      "\t [[{{node gradients/split_grad/concat/split/split_dim}}]]\n",
      "2023-10-25 12:19:32.826591: I tensorflow/core/common_runtime/executor.cc:1209] [/device:CPU:0] (DEBUG INFO) Executor start aborting (this does not indicate an error and you can ignore this message): INVALID_ARGUMENT: You must feed a value for placeholder tensor 'gradients/split_1_grad/concat/split_1/split_dim' with dtype int32\n",
      "\t [[{{node gradients/split_1_grad/concat/split_1/split_dim}}]]\n"
     ]
    },
    {
     "name": "stdout",
     "output_type": "stream",
     "text": [
      "Epoch 1/10\n"
     ]
    },
    {
     "name": "stderr",
     "output_type": "stream",
     "text": [
      "2023-10-25 12:19:33.690755: I tensorflow/core/common_runtime/executor.cc:1209] [/device:CPU:0] (DEBUG INFO) Executor start aborting (this does not indicate an error and you can ignore this message): INVALID_ARGUMENT: You must feed a value for placeholder tensor 'gradients/split_2_grad/concat/split_2/split_dim' with dtype int32\n",
      "\t [[{{node gradients/split_2_grad/concat/split_2/split_dim}}]]\n",
      "2023-10-25 12:19:33.692805: I tensorflow/core/common_runtime/executor.cc:1209] [/device:CPU:0] (DEBUG INFO) Executor start aborting (this does not indicate an error and you can ignore this message): INVALID_ARGUMENT: You must feed a value for placeholder tensor 'gradients/split_grad/concat/split/split_dim' with dtype int32\n",
      "\t [[{{node gradients/split_grad/concat/split/split_dim}}]]\n",
      "2023-10-25 12:19:33.694148: I tensorflow/core/common_runtime/executor.cc:1209] [/device:CPU:0] (DEBUG INFO) Executor start aborting (this does not indicate an error and you can ignore this message): INVALID_ARGUMENT: You must feed a value for placeholder tensor 'gradients/split_1_grad/concat/split_1/split_dim' with dtype int32\n",
      "\t [[{{node gradients/split_1_grad/concat/split_1/split_dim}}]]\n",
      "2023-10-25 12:19:33.831901: I tensorflow/core/common_runtime/executor.cc:1209] [/device:CPU:0] (DEBUG INFO) Executor start aborting (this does not indicate an error and you can ignore this message): INVALID_ARGUMENT: You must feed a value for placeholder tensor 'gradients/ReverseV2_grad/ReverseV2/ReverseV2/axis' with dtype int32 and shape [1]\n",
      "\t [[{{node gradients/ReverseV2_grad/ReverseV2/ReverseV2/axis}}]]\n",
      "2023-10-25 12:19:33.880466: I tensorflow/core/common_runtime/executor.cc:1209] [/device:CPU:0] (DEBUG INFO) Executor start aborting (this does not indicate an error and you can ignore this message): INVALID_ARGUMENT: You must feed a value for placeholder tensor 'gradients/split_2_grad/concat/split_2/split_dim' with dtype int32\n",
      "\t [[{{node gradients/split_2_grad/concat/split_2/split_dim}}]]\n",
      "2023-10-25 12:19:33.882020: I tensorflow/core/common_runtime/executor.cc:1209] [/device:CPU:0] (DEBUG INFO) Executor start aborting (this does not indicate an error and you can ignore this message): INVALID_ARGUMENT: You must feed a value for placeholder tensor 'gradients/split_grad/concat/split/split_dim' with dtype int32\n",
      "\t [[{{node gradients/split_grad/concat/split/split_dim}}]]\n",
      "2023-10-25 12:19:33.883522: I tensorflow/core/common_runtime/executor.cc:1209] [/device:CPU:0] (DEBUG INFO) Executor start aborting (this does not indicate an error and you can ignore this message): INVALID_ARGUMENT: You must feed a value for placeholder tensor 'gradients/split_1_grad/concat/split_1/split_dim' with dtype int32\n",
      "\t [[{{node gradients/split_1_grad/concat/split_1/split_dim}}]]\n",
      "2023-10-25 12:19:34.352998: I tensorflow/core/common_runtime/executor.cc:1209] [/device:CPU:0] (DEBUG INFO) Executor start aborting (this does not indicate an error and you can ignore this message): INVALID_ARGUMENT: You must feed a value for placeholder tensor 'gradients/ReverseV2_grad/ReverseV2/ReverseV2/axis' with dtype int32 and shape [1]\n",
      "\t [[{{node gradients/ReverseV2_grad/ReverseV2/ReverseV2/axis}}]]\n",
      "2023-10-25 12:19:34.721236: I tensorflow/core/common_runtime/executor.cc:1209] [/device:CPU:0] (DEBUG INFO) Executor start aborting (this does not indicate an error and you can ignore this message): INVALID_ARGUMENT: You must feed a value for placeholder tensor 'gradients/split_2_grad/concat/split_2/split_dim' with dtype int32\n",
      "\t [[{{node gradients/split_2_grad/concat/split_2/split_dim}}]]\n",
      "2023-10-25 12:19:34.723277: I tensorflow/core/common_runtime/executor.cc:1209] [/device:CPU:0] (DEBUG INFO) Executor start aborting (this does not indicate an error and you can ignore this message): INVALID_ARGUMENT: You must feed a value for placeholder tensor 'gradients/split_grad/concat/split/split_dim' with dtype int32\n",
      "\t [[{{node gradients/split_grad/concat/split/split_dim}}]]\n",
      "2023-10-25 12:19:34.724756: I tensorflow/core/common_runtime/executor.cc:1209] [/device:CPU:0] (DEBUG INFO) Executor start aborting (this does not indicate an error and you can ignore this message): INVALID_ARGUMENT: You must feed a value for placeholder tensor 'gradients/split_1_grad/concat/split_1/split_dim' with dtype int32\n",
      "\t [[{{node gradients/split_1_grad/concat/split_1/split_dim}}]]\n",
      "2023-10-25 12:19:34.865154: I tensorflow/core/common_runtime/executor.cc:1209] [/device:CPU:0] (DEBUG INFO) Executor start aborting (this does not indicate an error and you can ignore this message): INVALID_ARGUMENT: You must feed a value for placeholder tensor 'gradients/ReverseV2_grad/ReverseV2/ReverseV2/axis' with dtype int32 and shape [1]\n",
      "\t [[{{node gradients/ReverseV2_grad/ReverseV2/ReverseV2/axis}}]]\n",
      "2023-10-25 12:19:34.914623: I tensorflow/core/common_runtime/executor.cc:1209] [/device:CPU:0] (DEBUG INFO) Executor start aborting (this does not indicate an error and you can ignore this message): INVALID_ARGUMENT: You must feed a value for placeholder tensor 'gradients/split_2_grad/concat/split_2/split_dim' with dtype int32\n",
      "\t [[{{node gradients/split_2_grad/concat/split_2/split_dim}}]]\n",
      "2023-10-25 12:19:34.916363: I tensorflow/core/common_runtime/executor.cc:1209] [/device:CPU:0] (DEBUG INFO) Executor start aborting (this does not indicate an error and you can ignore this message): INVALID_ARGUMENT: You must feed a value for placeholder tensor 'gradients/split_grad/concat/split/split_dim' with dtype int32\n",
      "\t [[{{node gradients/split_grad/concat/split/split_dim}}]]\n",
      "2023-10-25 12:19:34.918023: I tensorflow/core/common_runtime/executor.cc:1209] [/device:CPU:0] (DEBUG INFO) Executor start aborting (this does not indicate an error and you can ignore this message): INVALID_ARGUMENT: You must feed a value for placeholder tensor 'gradients/split_1_grad/concat/split_1/split_dim' with dtype int32\n",
      "\t [[{{node gradients/split_1_grad/concat/split_1/split_dim}}]]\n",
      "2023-10-25 12:19:35.593138: I tensorflow/core/common_runtime/executor.cc:1209] [/device:CPU:0] (DEBUG INFO) Executor start aborting (this does not indicate an error and you can ignore this message): INVALID_ARGUMENT: You must feed a value for placeholder tensor 'gradients/ReverseV2_grad/ReverseV2/ReverseV2/axis' with dtype int32 and shape [1]\n",
      "\t [[{{node gradients/ReverseV2_grad/ReverseV2/ReverseV2/axis}}]]\n"
     ]
    },
    {
     "name": "stdout",
     "output_type": "stream",
     "text": [
      "2499/2499 [==============================] - ETA: 0s - loss: 0.6728 - categorical_accuracy: 0.7605 - auc: 0.9537 - precision: 0.8528 - recall: 0.6752"
     ]
    },
    {
     "name": "stderr",
     "output_type": "stream",
     "text": [
      "2023-10-25 12:21:27.848375: I tensorflow/core/common_runtime/executor.cc:1209] [/device:CPU:0] (DEBUG INFO) Executor start aborting (this does not indicate an error and you can ignore this message): INVALID_ARGUMENT: You must feed a value for placeholder tensor 'gradients/split_2_grad/concat/split_2/split_dim' with dtype int32\n",
      "\t [[{{node gradients/split_2_grad/concat/split_2/split_dim}}]]\n",
      "2023-10-25 12:21:27.850320: I tensorflow/core/common_runtime/executor.cc:1209] [/device:CPU:0] (DEBUG INFO) Executor start aborting (this does not indicate an error and you can ignore this message): INVALID_ARGUMENT: You must feed a value for placeholder tensor 'gradients/split_grad/concat/split/split_dim' with dtype int32\n",
      "\t [[{{node gradients/split_grad/concat/split/split_dim}}]]\n",
      "2023-10-25 12:21:27.851706: I tensorflow/core/common_runtime/executor.cc:1209] [/device:CPU:0] (DEBUG INFO) Executor start aborting (this does not indicate an error and you can ignore this message): INVALID_ARGUMENT: You must feed a value for placeholder tensor 'gradients/split_1_grad/concat/split_1/split_dim' with dtype int32\n",
      "\t [[{{node gradients/split_1_grad/concat/split_1/split_dim}}]]\n",
      "2023-10-25 12:21:27.985680: I tensorflow/core/common_runtime/executor.cc:1209] [/device:CPU:0] (DEBUG INFO) Executor start aborting (this does not indicate an error and you can ignore this message): INVALID_ARGUMENT: You must feed a value for placeholder tensor 'gradients/ReverseV2_grad/ReverseV2/ReverseV2/axis' with dtype int32 and shape [1]\n",
      "\t [[{{node gradients/ReverseV2_grad/ReverseV2/ReverseV2/axis}}]]\n",
      "2023-10-25 12:21:28.033186: I tensorflow/core/common_runtime/executor.cc:1209] [/device:CPU:0] (DEBUG INFO) Executor start aborting (this does not indicate an error and you can ignore this message): INVALID_ARGUMENT: You must feed a value for placeholder tensor 'gradients/split_2_grad/concat/split_2/split_dim' with dtype int32\n",
      "\t [[{{node gradients/split_2_grad/concat/split_2/split_dim}}]]\n",
      "2023-10-25 12:21:28.034759: I tensorflow/core/common_runtime/executor.cc:1209] [/device:CPU:0] (DEBUG INFO) Executor start aborting (this does not indicate an error and you can ignore this message): INVALID_ARGUMENT: You must feed a value for placeholder tensor 'gradients/split_grad/concat/split/split_dim' with dtype int32\n",
      "\t [[{{node gradients/split_grad/concat/split/split_dim}}]]\n",
      "2023-10-25 12:21:28.036255: I tensorflow/core/common_runtime/executor.cc:1209] [/device:CPU:0] (DEBUG INFO) Executor start aborting (this does not indicate an error and you can ignore this message): INVALID_ARGUMENT: You must feed a value for placeholder tensor 'gradients/split_1_grad/concat/split_1/split_dim' with dtype int32\n",
      "\t [[{{node gradients/split_1_grad/concat/split_1/split_dim}}]]\n"
     ]
    },
    {
     "name": "stdout",
     "output_type": "stream",
     "text": [
      "2499/2499 [==============================] - 126s 49ms/step - loss: 0.6728 - categorical_accuracy: 0.7605 - auc: 0.9537 - precision: 0.8528 - recall: 0.6752 - val_loss: 0.2644 - val_categorical_accuracy: 0.9253 - val_auc: 0.9905 - val_precision: 0.9344 - val_recall: 0.9185\n",
      "Epoch 2/10\n",
      "2499/2499 [==============================] - 123s 49ms/step - loss: 0.2406 - categorical_accuracy: 0.9306 - auc: 0.9913 - precision: 0.9364 - recall: 0.9257 - val_loss: 0.1970 - val_categorical_accuracy: 0.9412 - val_auc: 0.9947 - val_precision: 0.9453 - val_recall: 0.9373\n",
      "Epoch 3/10\n",
      "2499/2499 [==============================] - 123s 49ms/step - loss: 0.2000 - categorical_accuracy: 0.9410 - auc: 0.9936 - precision: 0.9460 - recall: 0.9367 - val_loss: 0.1979 - val_categorical_accuracy: 0.9461 - val_auc: 0.9944 - val_precision: 0.9524 - val_recall: 0.9381\n",
      "Epoch 4/10\n",
      "2499/2499 [==============================] - 122s 49ms/step - loss: 0.2356 - categorical_accuracy: 0.9321 - auc: 0.9916 - precision: 0.9382 - recall: 0.9270 - val_loss: 0.2033 - val_categorical_accuracy: 0.9407 - val_auc: 0.9925 - val_precision: 0.9481 - val_recall: 0.9322\n",
      "Epoch 5/10\n",
      "2499/2499 [==============================] - 122s 49ms/step - loss: 0.1859 - categorical_accuracy: 0.9446 - auc: 0.9945 - precision: 0.9499 - recall: 0.9399 - val_loss: 0.1635 - val_categorical_accuracy: 0.9508 - val_auc: 0.9950 - val_precision: 0.9582 - val_recall: 0.9461\n",
      "Epoch 6/10\n",
      "2499/2499 [==============================] - 124s 50ms/step - loss: 0.1617 - categorical_accuracy: 0.9515 - auc: 0.9955 - precision: 0.9543 - recall: 0.9489 - val_loss: 0.1417 - val_categorical_accuracy: 0.9565 - val_auc: 0.9964 - val_precision: 0.9579 - val_recall: 0.9552\n",
      "Epoch 7/10\n",
      "2499/2499 [==============================] - 123s 49ms/step - loss: 0.1371 - categorical_accuracy: 0.9582 - auc: 0.9967 - precision: 0.9600 - recall: 0.9564 - val_loss: 0.1185 - val_categorical_accuracy: 0.9616 - val_auc: 0.9980 - val_precision: 0.9643 - val_recall: 0.9601\n",
      "Epoch 8/10\n",
      "2499/2499 [==============================] - 123s 49ms/step - loss: 0.1277 - categorical_accuracy: 0.9612 - auc: 0.9970 - precision: 0.9631 - recall: 0.9594 - val_loss: 0.1112 - val_categorical_accuracy: 0.9668 - val_auc: 0.9978 - val_precision: 0.9681 - val_recall: 0.9657\n",
      "Epoch 9/10\n",
      "2499/2499 [==============================] - 123s 49ms/step - loss: 0.1147 - categorical_accuracy: 0.9649 - auc: 0.9974 - precision: 0.9665 - recall: 0.9635 - val_loss: 0.1139 - val_categorical_accuracy: 0.9657 - val_auc: 0.9979 - val_precision: 0.9687 - val_recall: 0.9632\n",
      "Epoch 10/10\n",
      "2499/2499 [==============================] - 123s 49ms/step - loss: 0.1073 - categorical_accuracy: 0.9667 - auc: 0.9977 - precision: 0.9685 - recall: 0.9650 - val_loss: 0.1367 - val_categorical_accuracy: 0.9606 - val_auc: 0.9959 - val_precision: 0.9621 - val_recall: 0.9595\n"
     ]
    }
   ],
   "source": [
    "full_model = self_har_models.attach_full_har_classification_head(LSTM_CNN_model, 6, optimizer=tf.keras.optimizers.legacy.Adam(learning_rate=0.001))\n",
    "history = full_model.fit(user_datasets_processed[0][0], user_datasets_processed[0][1]\n",
    "                    , epochs=10, validation_data=(user_datasets_processed[1][0], user_datasets_processed[1][1]))"
   ]
  },
  {
   "cell_type": "code",
   "execution_count": 25,
   "metadata": {},
   "outputs": [
    {
     "name": "stderr",
     "output_type": "stream",
     "text": [
      "WARNING:absl:At this time, the v2.11+ optimizer `tf.keras.optimizers.Adam` runs slowly on M1/M2 Macs, please use the legacy Keras optimizer instead, located at `tf.keras.optimizers.legacy.Adam`.\n",
      "WARNING:absl:At this time, the v2.11+ optimizer `tf.keras.optimizers.SGD` runs slowly on M1/M2 Macs, please use the legacy Keras optimizer instead, located at `tf.keras.optimizers.legacy.SGD`.\n"
     ]
    },
    {
     "name": "stdout",
     "output_type": "stream",
     "text": [
      "INFO:tensorflow:Assets written to: saved_models/assets\n"
     ]
    },
    {
     "name": "stderr",
     "output_type": "stream",
     "text": [
      "INFO:tensorflow:Assets written to: saved_models/assets\n"
     ]
    }
   ],
   "source": [
    "tf.saved_model.save(full_model, \"saved_models\")"
   ]
  }
 ],
 "metadata": {
  "kernelspec": {
   "display_name": "Python 3 (ipykernel)",
   "language": "python",
   "name": "python3"
  },
  "language_info": {
   "codemirror_mode": {
    "name": "ipython",
    "version": 3
   },
   "file_extension": ".py",
   "mimetype": "text/x-python",
   "name": "python",
   "nbconvert_exporter": "python",
   "pygments_lexer": "ipython3",
   "version": "3.10.12"
  }
 },
 "nbformat": 4,
 "nbformat_minor": 4
}
