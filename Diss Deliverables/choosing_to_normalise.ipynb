{
 "cells": [
  {
   "cell_type": "code",
   "execution_count": null,
   "metadata": {},
   "outputs": [],
   "source": [
    "%load_ext autoreload\n",
    "%autoreload 2\n",
    "\n",
    "import os\n",
    "import pandas as pd\n",
    "import dataset_pre_processing\n",
    "import self_har_models\n",
    "import tensorflow as tf\n",
    "import pickle\n",
    "import glob\n",
    "import Evaluation1"
   ]
  },
  {
   "cell_type": "markdown",
   "metadata": {},
   "source": [
    "This notebook was used to determine whether to normalise the dataset. "
   ]
  },
  {
   "cell_type": "code",
   "execution_count": null,
   "metadata": {},
   "outputs": [],
   "source": [
    "from raw_data_processing import process_hhar_all_files, process_hhar_all_har_files, process_motion_sense_all_files, process_motion_sense_all_har_files, process_PAMAP2_all_data, process_pamap2_har_files, process_HARTH_thigh_acc_har_data, process_dasa_all_har_data_standardised, process_dasa_all_data_standardised, process_WISDM_all_data, process_WISDM_all_har_data\n",
    "\n",
    "dasa_normalised_df = process_dasa_all_data_standardised(\"test_run/original_datasets/data\")\n",
    "# with open('pickled_datasets/dasa2.pickle', 'wb') as file:\n",
    "#     pickle.dump(dasa_df, file)\n",
    "dasa_normalised_har_df = process_dasa_all_har_data_standardised(\"test_run/original_datasets/data\")\n",
    "# with open('pickled_datasets/dasa_har.pickle', 'wb') as file:\n",
    "#     pickle.dump(dasa_har_df, file)"
   ]
  },
  {
   "cell_type": "code",
   "execution_count": null,
   "metadata": {},
   "outputs": [],
   "source": [
    "Evaluation1.eval_downstream_model(dasa_normalised_df, dasa_normalised_har_df, 'acc', 'acc')"
   ]
  },
  {
   "cell_type": "code",
   "execution_count": null,
   "metadata": {},
   "outputs": [],
   "source": [
    "with open('pickled_datasets/dasa2.pickle', 'rb') as file:\n",
    "    dasa2_df = pickle.load(file)\n",
    "with open('pickled_datasets/dasa_har.pickle', 'rb') as file:\n",
    "    dasa2_har_df = pickle.load(file)"
   ]
  },
  {
   "cell_type": "code",
   "execution_count": null,
   "metadata": {},
   "outputs": [],
   "source": [
    "Evaluation1.eval_downstream_model(dasa2_df, dasa2_har_df, 'acc', 'acc')"
   ]
  }
 ],
 "metadata": {
  "kernelspec": {
   "display_name": "base",
   "language": "python",
   "name": "python3"
  },
  "language_info": {
   "codemirror_mode": {
    "name": "ipython",
    "version": 3
   },
   "file_extension": ".py",
   "mimetype": "text/x-python",
   "name": "python",
   "nbconvert_exporter": "python",
   "pygments_lexer": "ipython3",
   "version": "3.9.6"
  }
 },
 "nbformat": 4,
 "nbformat_minor": 2
}
