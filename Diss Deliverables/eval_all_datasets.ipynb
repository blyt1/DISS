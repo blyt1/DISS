{
 "cells": [
  {
   "cell_type": "code",
   "execution_count": null,
   "id": "4830943e",
   "metadata": {},
   "outputs": [],
   "source": [
    "%load_ext autoreload\n",
    "%autoreload 2\n",
    "import os\n",
    "os.environ['TF_CPP_MIN_LOG_LEVEL'] = '3' \n",
    "import self_har_models\n",
    "import pickle\n",
    "import dataset_pre_processing\n",
    "import seaborn as sns\n",
    "import matplotlib.pyplot as plt\n",
    "import numpy as np\n",
    "import tensorflow as tf\n",
    "import Evaluation1\n",
    "import pandas as pd\n",
    "tf.get_logger().setLevel('INFO')"
   ]
  },
  {
   "cell_type": "markdown",
   "id": "adf0106b",
   "metadata": {},
   "source": [
    "# This notebook evaluates the SS implementation each dataset with variable downstream user data\n",
    "for the script version of this notebook, see eval_all_final.py"
   ]
  },
  {
   "cell_type": "markdown",
   "id": "f9c0aace",
   "metadata": {},
   "source": [
    "# LOAD DATASET"
   ]
  },
  {
   "cell_type": "code",
   "execution_count": null,
   "id": "1698d4ec",
   "metadata": {},
   "outputs": [],
   "source": [
    "with open('pickled_datasets/pamap2.pickle', 'rb') as file:\n",
    "    pamap_df = pickle.load(file)\n",
    "with open('pickled_datasets/hhar2.pickle', 'rb') as file:\n",
    "    hhar_df = pickle.load(file)\n",
    "with open('pickled_datasets/motionsense2.pickle', 'rb') as file:\n",
    "    motion_sense_df = pickle.load(file)\n",
    "with open('pickled_datasets/harth2.pickle', 'rb') as file:\n",
    "    harth_df = pickle.load(file)\n",
    "with open('pickled_datasets/dasa2.pickle', 'rb') as file:\n",
    "    dasa_df = pickle.load(file)\n",
    "with open('pickled_datasets/wisdm2.pickle', 'rb') as file:\n",
    "    wisdm_df = pickle.load(file)\n",
    "\n",
    "    \n",
    "with open('pickled_datasets/pamap_har.pickle', 'rb') as file:\n",
    "    pamap_har_df = pickle.load(file)\n",
    "with open('pickled_datasets/hhar_har.pickle', 'rb') as file:\n",
    "    hhar_har_df = pickle.load(file)\n",
    "with open('pickled_datasets/motionsense_har.pickle', 'rb') as file:\n",
    "    motionsense_har_df = pickle.load(file)\n",
    "with open('pickled_datasets/harth_har.pickle', 'rb') as file:\n",
    "    harth_har_df = pickle.load(file)\n",
    "with open('pickled_datasets/dasa_har.pickle', 'rb') as file:\n",
    "    dasa_har_df = pickle.load(file)\n",
    "with open('pickled_datasets/wisdm_har.pickle', 'rb') as file:\n",
    "    wisdm_har_df = pickle.load(file)"
   ]
  },
  {
   "cell_type": "markdown",
   "id": "5ebe8642",
   "metadata": {},
   "source": [
    "# Evaluate PAMAP"
   ]
  },
  {
   "cell_type": "code",
   "execution_count": null,
   "id": "9928b405",
   "metadata": {},
   "outputs": [],
   "source": [
    "Evaluation1.eval_downstream_model(pamap_df, pamap_har_df, 'acc', 'acc')"
   ]
  },
  {
   "cell_type": "markdown",
   "id": "e21c82d7",
   "metadata": {},
   "source": [
    "# HHAR"
   ]
  },
  {
   "cell_type": "code",
   "execution_count": null,
   "id": "fc31c179",
   "metadata": {},
   "outputs": [],
   "source": [
    "Evaluation1.eval_downstream_model(hhar_df, hhar_har_df, 'acc', 'acc')"
   ]
  },
  {
   "cell_type": "markdown",
   "id": "06e85320",
   "metadata": {},
   "source": [
    "# MOTION SENSE"
   ]
  },
  {
   "cell_type": "code",
   "execution_count": null,
   "id": "094046b5",
   "metadata": {},
   "outputs": [],
   "source": [
    "Evaluation1.eval_downstream_model(motion_sense_df, motionsense_har_df, 'all', 'acc')"
   ]
  },
  {
   "cell_type": "markdown",
   "id": "eb675e01",
   "metadata": {},
   "source": [
    "# HARTH"
   ]
  },
  {
   "cell_type": "code",
   "execution_count": null,
   "id": "9d88a5ec",
   "metadata": {},
   "outputs": [],
   "source": [
    "Evaluation1.eval_downstream_model(harth_df, harth_har_df, 'acc', 'acc')"
   ]
  },
  {
   "cell_type": "markdown",
   "id": "b7bbee78",
   "metadata": {},
   "source": [
    "# DSAD"
   ]
  },
  {
   "cell_type": "code",
   "execution_count": null,
   "id": "b649b3c1",
   "metadata": {},
   "outputs": [],
   "source": [
    "Evaluation1.eval_downstream_model(dasa_df, dasa_har_df, 'acc', 'acc', shift=10)"
   ]
  },
  {
   "cell_type": "markdown",
   "id": "4ad0768b",
   "metadata": {},
   "source": [
    "# WISDM"
   ]
  },
  {
   "cell_type": "code",
   "execution_count": null,
   "id": "15a208b6",
   "metadata": {},
   "outputs": [],
   "source": [
    "Evaluation1.eval_downstream_model(wisdm_df, wisdm_har_df, 'acc', 'acc', step=2)"
   ]
  }
 ],
 "metadata": {
  "kernelspec": {
   "display_name": "Python 3 (ipykernel)",
   "language": "python",
   "name": "python3"
  },
  "language_info": {
   "codemirror_mode": {
    "name": "ipython",
    "version": 3
   },
   "file_extension": ".py",
   "mimetype": "text/x-python",
   "name": "python",
   "nbconvert_exporter": "python",
   "pygments_lexer": "ipython3",
   "version": "3.10.12"
  }
 },
 "nbformat": 4,
 "nbformat_minor": 5
}
