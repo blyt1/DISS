{
 "cells": [
  {
   "cell_type": "code",
   "execution_count": null,
   "id": "deefaa7f",
   "metadata": {},
   "outputs": [],
   "source": [
    "%load_ext autoreload\n",
    "%autoreload 2\n",
    "import os\n",
    "os.environ['TF_CPP_MIN_LOG_LEVEL'] = '3' \n",
    "import self_har_models\n",
    "import pickle\n",
    "import dataset_pre_processing\n",
    "import seaborn as sns\n",
    "import matplotlib.pyplot as plt\n",
    "import numpy as np\n",
    "import tensorflow as tf\n",
    "import Evaluation1\n",
    "tf.get_logger().setLevel('INFO')"
   ]
  },
  {
   "cell_type": "markdown",
   "id": "90197f0a",
   "metadata": {},
   "source": [
    "This notebook is used to evaluate all of the architectures and decide on which one to use."
   ]
  },
  {
   "cell_type": "code",
   "execution_count": null,
   "id": "5409718a",
   "metadata": {},
   "outputs": [],
   "source": [
    "with open('pickled_datasets/dasa2.pickle', 'rb') as file:\n",
    "    dasa_df = pickle.load(file)\n",
    "with open('pickled_datasets/dasa_har.pickle', 'rb') as file:\n",
    "    dasa_har_df = pickle.load(file)"
   ]
  },
  {
   "cell_type": "code",
   "execution_count": null,
   "id": "35d51190",
   "metadata": {},
   "outputs": [],
   "source": [
    "Evaluation1.eval_downstream_model(dasa_df, dasa_har_df, 'acc', 'acc', core_model=\"Transformer\")"
   ]
  },
  {
   "cell_type": "code",
   "execution_count": null,
   "id": "bf18b62d",
   "metadata": {},
   "outputs": [],
   "source": [
    "Evaluation1.eval_downstream_model(dasa_df, dasa_har_df, 'acc', 'acc', core_model=\"LSTM\")"
   ]
  },
  {
   "cell_type": "code",
   "execution_count": null,
   "id": "d8a4a4fd",
   "metadata": {},
   "outputs": [],
   "source": [
    "Evaluation1.eval_downstream_model(dasa_df, dasa_har_df, 'acc', 'acc', core_model=\"LSTM-CNN\")"
   ]
  },
  {
   "cell_type": "code",
   "execution_count": null,
   "id": "99d38d54",
   "metadata": {},
   "outputs": [],
   "source": [
    "Evaluation1.eval_downstream_model(dasa_df, dasa_har_df, 'acc', 'acc')"
   ]
  }
 ],
 "metadata": {
  "kernelspec": {
   "display_name": "Python 3 (ipykernel)",
   "language": "python",
   "name": "python3"
  },
  "language_info": {
   "codemirror_mode": {
    "name": "ipython",
    "version": 3
   },
   "file_extension": ".py",
   "mimetype": "text/x-python",
   "name": "python",
   "nbconvert_exporter": "python",
   "pygments_lexer": "ipython3",
   "version": "3.10.12"
  }
 },
 "nbformat": 4,
 "nbformat_minor": 5
}
